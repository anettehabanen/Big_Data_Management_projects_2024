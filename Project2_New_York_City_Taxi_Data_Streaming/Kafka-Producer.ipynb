{
 "cells": [
  {
   "cell_type": "code",
   "execution_count": 2,
   "id": "cf6cdd34",
   "metadata": {},
   "outputs": [
    {
     "name": "stdout",
     "output_type": "stream",
     "text": [
      "Collecting lorem\n",
      "  Downloading lorem-0.1.1-py3-none-any.whl (5.0 kB)\n",
      "Collecting confluent_kafka\n",
      "  Downloading confluent_kafka-1.9.2-cp39-cp39-manylinux_2_17_x86_64.manylinux2014_x86_64.whl (3.1 MB)\n",
      "\u001b[2K     \u001b[90m━━━━━━━━━━━━━━━━━━━━━━━━━━━━━━━━━━━━━━━━\u001b[0m \u001b[32m3.1/3.1 MB\u001b[0m \u001b[31m3.8 MB/s\u001b[0m eta \u001b[36m0:00:00\u001b[0m00:01\u001b[0m00:01\u001b[0m\n",
      "\u001b[?25hCollecting sseclient\n",
      "  Downloading sseclient-0.0.27.tar.gz (7.5 kB)\n",
      "  Preparing metadata (setup.py) ... \u001b[?25ldone\n",
      "\u001b[?25hRequirement already satisfied: requests>=2.9 in /usr/local/lib/python3.9/dist-packages (from sseclient) (2.28.1)\n",
      "Requirement already satisfied: six in /usr/local/lib/python3.9/dist-packages (from sseclient) (1.16.0)\n",
      "Requirement already satisfied: charset-normalizer<3,>=2 in /usr/local/lib/python3.9/dist-packages (from requests>=2.9->sseclient) (2.1.1)\n",
      "Requirement already satisfied: certifi>=2017.4.17 in /usr/local/lib/python3.9/dist-packages (from requests>=2.9->sseclient) (2022.9.14)\n",
      "Requirement already satisfied: idna<4,>=2.5 in /usr/local/lib/python3.9/dist-packages (from requests>=2.9->sseclient) (3.4)\n",
      "Requirement already satisfied: urllib3<1.27,>=1.21.1 in /usr/local/lib/python3.9/dist-packages (from requests>=2.9->sseclient) (1.26.12)\n",
      "Building wheels for collected packages: sseclient\n",
      "  Building wheel for sseclient (setup.py) ... \u001b[?25ldone\n",
      "\u001b[?25h  Created wheel for sseclient: filename=sseclient-0.0.27-py3-none-any.whl size=5570 sha256=4449f89f8f92aa60ce7820ef8e9f2f3c0da52ff00cf8f57176bc8130780cf361\n",
      "  Stored in directory: /root/.cache/pip/wheels/73/21/3f/9d20c05c1c9312ab61bc7bf63bb2c189a71e800cb028fa8d2a\n",
      "Successfully built sseclient\n",
      "Installing collected packages: lorem, confluent_kafka, sseclient\n",
      "Successfully installed confluent_kafka-1.9.2 lorem-0.1.1 sseclient-0.0.27\n",
      "\u001b[33mWARNING: Running pip as the 'root' user can result in broken permissions and conflicting behaviour with the system package manager. It is recommended to use a virtual environment instead: https://pip.pypa.io/warnings/venv\u001b[0m\u001b[33m\n",
      "\u001b[0m"
     ]
    }
   ],
   "source": [
    "# You may need to run this the first time !pip install lorem confluent_kafka sseclient"
   ]
  },
  {
   "cell_type": "code",
   "execution_count": 3,
   "id": "c4fb36d0",
   "metadata": {},
   "outputs": [],
   "source": [
    "from confluent_kafka import SerializingProducer, DeserializingConsumer\n",
    "from confluent_kafka.serialization import StringSerializer, StringDeserializer\n",
    "from confluent_kafka.admin import AdminClient, NewTopic\n",
    "from uuid import uuid4\n",
    "import sys, lorem, random\n",
    "\n",
    "brokers = \"kafka1:9092,kafka2:9093\""
   ]
  },
  {
   "cell_type": "code",
   "execution_count": 4,
   "id": "a720a3de",
   "metadata": {},
   "outputs": [],
   "source": [
    "pconf = {\n",
    "    'bootstrap.servers': brokers,\n",
    "    'partitioner': 'murmur2_random',\n",
    "    'key.serializer': StringSerializer('utf_8'),\n",
    "    'value.serializer': StringSerializer('utf_8')\n",
    "}"
   ]
  },
  {
   "cell_type": "code",
   "execution_count": 5,
   "id": "110e43c2",
   "metadata": {},
   "outputs": [],
   "source": [
    "p = SerializingProducer(pconf)"
   ]
  },
  {
   "cell_type": "code",
   "execution_count": null,
   "id": "21a765f9",
   "metadata": {
    "scrolled": true
   },
   "outputs": [],
   "source": [
    "import time\n",
    "for n in range(1,1000):\n",
    "    try:\n",
    "        # Produce line (without newline)\n",
    "        line = lorem.sentence()\n",
    "        p.produce(\"words\", key=str(uuid4()), value=line)\n",
    "        p.poll(0)\n",
    "        p.flush()\n",
    "        print(line)\n",
    "    except BufferError:\n",
    "        sys.stderr.write('%% Local producer queue is full (%d messages awaiting delivery): try again\\n' % len(p))"
   ]
  },
  {
   "cell_type": "code",
   "execution_count": null,
   "id": "6080e5f3",
   "metadata": {},
   "outputs": [],
   "source": [
    "import time\n",
    "for n in range(1,1000):\n",
    "    try:\n",
    "        # Produce line (without newline)\n",
    "        line = lorem.sentence()\n",
    "        p.produce(\"words\", key=str(uuid4()), value=line)\n",
    "        p.poll(0)\n",
    "        p.flush()\n",
    "        time.sleep(0.5)\n",
    "        print(line)\n",
    "    except BufferError:\n",
    "        sys.stderr.write('%% Local producer queue is full (%d messages awaiting delivery): try again\\n' % len(p))"
   ]
  },
  {
   "cell_type": "markdown",
   "id": "4e7405eb",
   "metadata": {},
   "source": [
    "## Wikipedia edit stream"
   ]
  },
  {
   "cell_type": "code",
   "execution_count": 9,
   "id": "11db3362",
   "metadata": {},
   "outputs": [],
   "source": [
    "user_types = {True: 'bot', False: 'human'}\n",
    "def init_namespaces():\n",
    "    # create a dictionary for the various known namespaces\n",
    "    # more info https://en.wikipedia.org/wiki/Wikipedia:Namespace#Programming\n",
    "    namespace_dict = {-2: 'Media', \n",
    "                      -1: 'Special', \n",
    "                      0: 'main namespace', \n",
    "                      1: 'Talk', \n",
    "                      2: 'User', 3: 'User Talk',\n",
    "                      4: 'Wikipedia', 5: 'Wikipedia Talk', \n",
    "                      6: 'File', 7: 'File Talk',\n",
    "                      8: 'MediaWiki', 9: 'MediaWiki Talk', \n",
    "                      10: 'Template', 11: 'Template Talk', \n",
    "                      12: 'Help', 13: 'Help Talk', \n",
    "                      14: 'Category', 15: 'Category Talk', \n",
    "                      100: 'Portal', 101: 'Portal Talk',\n",
    "                      108: 'Book', 109: 'Book Talk', \n",
    "                      118: 'Draft', 119: 'Draft Talk', \n",
    "                      446: 'Education Program', 447: 'Education Program Talk', \n",
    "                      710: 'TimedText', 711: 'TimedText Talk', \n",
    "                      828: 'Module', 829: 'Module Talk', \n",
    "                      2300: 'Gadget', 2301: 'Gadget Talk', \n",
    "                      2302: 'Gadget definition', 2303: 'Gadget definition Talk'}\n",
    "\n",
    "    return namespace_dict\n",
    "\n",
    "\n",
    "def construct_event(event_data, user_types):\n",
    "    # use dictionary to change assign namespace value and catch any unknown namespaces (like ns 104)\n",
    "    try:\n",
    "        event_data['namespace'] = namespace_dict[event_data['namespace']]\n",
    "    except KeyError:\n",
    "        event_data['namespace'] = 'unknown'\n",
    "\n",
    "    # assign user type value to either bot or human\n",
    "    user_type = user_types[event_data['bot']]\n",
    "\n",
    "    # define the structure of the json event that will be published to kafka topic\n",
    "    event = {\"id\": event_data['id'],\n",
    "             \"domain\": event_data['meta']['domain'],\n",
    "             \"uri\": event_data['meta']['uri'],\n",
    "             \"namespace\": event_data['namespace'],\n",
    "             \"title\": event_data['title'],\n",
    "             #\"comment\": event_data['comment'],\n",
    "             \"timestamp\": event_data['meta']['dt'],#event_data['timestamp'],\n",
    "             \"user_name\": event_data['user'],\n",
    "             \"user_type\": user_type\n",
    "             #\"minor\": event_datab['minor'],\n",
    "             }\n",
    "    \n",
    "    if event_data[\"type\"] == \"edit\":\n",
    "        event[\"old_length\"] = event_data['length']['old']\n",
    "        event[\"new_length\"] = event_data['length']['new']\n",
    "    \n",
    "    return event"
   ]
  },
  {
   "cell_type": "code",
   "execution_count": null,
   "id": "d8f4f0b3",
   "metadata": {},
   "outputs": [],
   "source": [
    "import json\n",
    "from sseclient import SSEClient as EventSource\n",
    "\n",
    "url = 'https://stream.wikimedia.org/v2/stream/recentchange'\n",
    "namespace_dict = init_namespaces()\n",
    "for event in EventSource(url):\n",
    "    if event.event == 'message':\n",
    "        try:\n",
    "            event_data = json.loads(event.data)\n",
    "        except ValueError:\n",
    "            pass\n",
    "        else:\n",
    "            if event_data['type'] == 'edit':\n",
    "                    # construct valid json event\n",
    "                    event_to_send = construct_event(event_data, user_types)\n",
    "                    #print(event_to_send)\n",
    "                    p.produce('edit', value=json.dumps(event_to_send))\n",
    "                    p.poll(0)\n",
    "                    p.flush()"
   ]
  },
  {
   "cell_type": "code",
   "execution_count": 10,
   "id": "1f80bff0",
   "metadata": {},
   "outputs": [
    {
     "ename": "KeyboardInterrupt",
     "evalue": "",
     "output_type": "error",
     "traceback": [
      "\u001b[0;31m---------------------------------------------------------------------------\u001b[0m",
      "\u001b[0;31mKeyboardInterrupt\u001b[0m                         Traceback (most recent call last)",
      "Cell \u001b[0;32mIn [10], line 6\u001b[0m\n\u001b[1;32m      4\u001b[0m url \u001b[38;5;241m=\u001b[39m \u001b[38;5;124m'\u001b[39m\u001b[38;5;124mhttps://stream.wikimedia.org/v2/stream/recentchange\u001b[39m\u001b[38;5;124m'\u001b[39m\n\u001b[1;32m      5\u001b[0m namespace_dict \u001b[38;5;241m=\u001b[39m init_namespaces()\n\u001b[0;32m----> 6\u001b[0m \u001b[38;5;28;01mfor\u001b[39;00m event \u001b[38;5;129;01min\u001b[39;00m EventSource(url):\n\u001b[1;32m      7\u001b[0m     \u001b[38;5;28;01mif\u001b[39;00m event\u001b[38;5;241m.\u001b[39mevent \u001b[38;5;241m==\u001b[39m \u001b[38;5;124m'\u001b[39m\u001b[38;5;124mmessage\u001b[39m\u001b[38;5;124m'\u001b[39m:\n\u001b[1;32m      8\u001b[0m         \u001b[38;5;28;01mtry\u001b[39;00m:\n",
      "File \u001b[0;32m/usr/local/lib/python3.9/dist-packages/sseclient.py:92\u001b[0m, in \u001b[0;36mSSEClient.__next__\u001b[0;34m(self)\u001b[0m\n\u001b[1;32m     90\u001b[0m \u001b[38;5;28;01mwhile\u001b[39;00m \u001b[38;5;129;01mnot\u001b[39;00m \u001b[38;5;28mself\u001b[39m\u001b[38;5;241m.\u001b[39m_event_complete():\n\u001b[1;32m     91\u001b[0m     \u001b[38;5;28;01mtry\u001b[39;00m:\n\u001b[0;32m---> 92\u001b[0m         next_chunk \u001b[38;5;241m=\u001b[39m \u001b[38;5;28;43mnext\u001b[39;49m\u001b[43m(\u001b[49m\u001b[38;5;28;43mself\u001b[39;49m\u001b[38;5;241;43m.\u001b[39;49m\u001b[43mresp_iterator\u001b[49m\u001b[43m)\u001b[49m\n\u001b[1;32m     93\u001b[0m         \u001b[38;5;28;01mif\u001b[39;00m \u001b[38;5;129;01mnot\u001b[39;00m next_chunk:\n\u001b[1;32m     94\u001b[0m             \u001b[38;5;28;01mraise\u001b[39;00m \u001b[38;5;167;01mEOFError\u001b[39;00m()\n",
      "File \u001b[0;32m/usr/local/lib/python3.9/dist-packages/sseclient.py:71\u001b[0m, in \u001b[0;36mSSEClient.iter_content.<locals>.generate\u001b[0;34m()\u001b[0m\n\u001b[1;32m     67\u001b[0m \u001b[38;5;28;01mwhile\u001b[39;00m \u001b[38;5;28;01mTrue\u001b[39;00m:\n\u001b[1;32m     68\u001b[0m     \u001b[38;5;28;01mif\u001b[39;00m \u001b[38;5;28mhasattr\u001b[39m(\u001b[38;5;28mself\u001b[39m\u001b[38;5;241m.\u001b[39mresp\u001b[38;5;241m.\u001b[39mraw, \u001b[38;5;124m'\u001b[39m\u001b[38;5;124m_fp\u001b[39m\u001b[38;5;124m'\u001b[39m) \u001b[38;5;129;01mand\u001b[39;00m \\\n\u001b[1;32m     69\u001b[0m             \u001b[38;5;28mhasattr\u001b[39m(\u001b[38;5;28mself\u001b[39m\u001b[38;5;241m.\u001b[39mresp\u001b[38;5;241m.\u001b[39mraw\u001b[38;5;241m.\u001b[39m_fp, \u001b[38;5;124m'\u001b[39m\u001b[38;5;124mfp\u001b[39m\u001b[38;5;124m'\u001b[39m) \u001b[38;5;129;01mand\u001b[39;00m \\\n\u001b[1;32m     70\u001b[0m             \u001b[38;5;28mhasattr\u001b[39m(\u001b[38;5;28mself\u001b[39m\u001b[38;5;241m.\u001b[39mresp\u001b[38;5;241m.\u001b[39mraw\u001b[38;5;241m.\u001b[39m_fp\u001b[38;5;241m.\u001b[39mfp, \u001b[38;5;124m'\u001b[39m\u001b[38;5;124mread1\u001b[39m\u001b[38;5;124m'\u001b[39m):\n\u001b[0;32m---> 71\u001b[0m         chunk \u001b[38;5;241m=\u001b[39m \u001b[38;5;28;43mself\u001b[39;49m\u001b[38;5;241;43m.\u001b[39;49m\u001b[43mresp\u001b[49m\u001b[38;5;241;43m.\u001b[39;49m\u001b[43mraw\u001b[49m\u001b[38;5;241;43m.\u001b[39;49m\u001b[43m_fp\u001b[49m\u001b[38;5;241;43m.\u001b[39;49m\u001b[43mfp\u001b[49m\u001b[38;5;241;43m.\u001b[39;49m\u001b[43mread1\u001b[49m\u001b[43m(\u001b[49m\u001b[38;5;28;43mself\u001b[39;49m\u001b[38;5;241;43m.\u001b[39;49m\u001b[43mchunk_size\u001b[49m\u001b[43m)\u001b[49m\n\u001b[1;32m     72\u001b[0m     \u001b[38;5;28;01melse\u001b[39;00m:\n\u001b[1;32m     73\u001b[0m         \u001b[38;5;66;03m# _fp is not available, this means that we cannot use short\u001b[39;00m\n\u001b[1;32m     74\u001b[0m         \u001b[38;5;66;03m# reads and this will block until the full chunk size is\u001b[39;00m\n\u001b[1;32m     75\u001b[0m         \u001b[38;5;66;03m# actually read\u001b[39;00m\n\u001b[1;32m     76\u001b[0m         chunk \u001b[38;5;241m=\u001b[39m \u001b[38;5;28mself\u001b[39m\u001b[38;5;241m.\u001b[39mresp\u001b[38;5;241m.\u001b[39mraw\u001b[38;5;241m.\u001b[39mread(\u001b[38;5;28mself\u001b[39m\u001b[38;5;241m.\u001b[39mchunk_size)\n",
      "File \u001b[0;32m/usr/lib/python3.9/socket.py:704\u001b[0m, in \u001b[0;36mSocketIO.readinto\u001b[0;34m(self, b)\u001b[0m\n\u001b[1;32m    702\u001b[0m \u001b[38;5;28;01mwhile\u001b[39;00m \u001b[38;5;28;01mTrue\u001b[39;00m:\n\u001b[1;32m    703\u001b[0m     \u001b[38;5;28;01mtry\u001b[39;00m:\n\u001b[0;32m--> 704\u001b[0m         \u001b[38;5;28;01mreturn\u001b[39;00m \u001b[38;5;28;43mself\u001b[39;49m\u001b[38;5;241;43m.\u001b[39;49m\u001b[43m_sock\u001b[49m\u001b[38;5;241;43m.\u001b[39;49m\u001b[43mrecv_into\u001b[49m\u001b[43m(\u001b[49m\u001b[43mb\u001b[49m\u001b[43m)\u001b[49m\n\u001b[1;32m    705\u001b[0m     \u001b[38;5;28;01mexcept\u001b[39;00m timeout:\n\u001b[1;32m    706\u001b[0m         \u001b[38;5;28mself\u001b[39m\u001b[38;5;241m.\u001b[39m_timeout_occurred \u001b[38;5;241m=\u001b[39m \u001b[38;5;28;01mTrue\u001b[39;00m\n",
      "File \u001b[0;32m/usr/lib/python3.9/ssl.py:1241\u001b[0m, in \u001b[0;36mSSLSocket.recv_into\u001b[0;34m(self, buffer, nbytes, flags)\u001b[0m\n\u001b[1;32m   1237\u001b[0m     \u001b[38;5;28;01mif\u001b[39;00m flags \u001b[38;5;241m!=\u001b[39m \u001b[38;5;241m0\u001b[39m:\n\u001b[1;32m   1238\u001b[0m         \u001b[38;5;28;01mraise\u001b[39;00m \u001b[38;5;167;01mValueError\u001b[39;00m(\n\u001b[1;32m   1239\u001b[0m           \u001b[38;5;124m\"\u001b[39m\u001b[38;5;124mnon-zero flags not allowed in calls to recv_into() on \u001b[39m\u001b[38;5;132;01m%s\u001b[39;00m\u001b[38;5;124m\"\u001b[39m \u001b[38;5;241m%\u001b[39m\n\u001b[1;32m   1240\u001b[0m           \u001b[38;5;28mself\u001b[39m\u001b[38;5;241m.\u001b[39m\u001b[38;5;18m__class__\u001b[39m)\n\u001b[0;32m-> 1241\u001b[0m     \u001b[38;5;28;01mreturn\u001b[39;00m \u001b[38;5;28;43mself\u001b[39;49m\u001b[38;5;241;43m.\u001b[39;49m\u001b[43mread\u001b[49m\u001b[43m(\u001b[49m\u001b[43mnbytes\u001b[49m\u001b[43m,\u001b[49m\u001b[43m \u001b[49m\u001b[43mbuffer\u001b[49m\u001b[43m)\u001b[49m\n\u001b[1;32m   1242\u001b[0m \u001b[38;5;28;01melse\u001b[39;00m:\n\u001b[1;32m   1243\u001b[0m     \u001b[38;5;28;01mreturn\u001b[39;00m \u001b[38;5;28msuper\u001b[39m()\u001b[38;5;241m.\u001b[39mrecv_into(buffer, nbytes, flags)\n",
      "File \u001b[0;32m/usr/lib/python3.9/ssl.py:1099\u001b[0m, in \u001b[0;36mSSLSocket.read\u001b[0;34m(self, len, buffer)\u001b[0m\n\u001b[1;32m   1097\u001b[0m \u001b[38;5;28;01mtry\u001b[39;00m:\n\u001b[1;32m   1098\u001b[0m     \u001b[38;5;28;01mif\u001b[39;00m buffer \u001b[38;5;129;01mis\u001b[39;00m \u001b[38;5;129;01mnot\u001b[39;00m \u001b[38;5;28;01mNone\u001b[39;00m:\n\u001b[0;32m-> 1099\u001b[0m         \u001b[38;5;28;01mreturn\u001b[39;00m \u001b[38;5;28;43mself\u001b[39;49m\u001b[38;5;241;43m.\u001b[39;49m\u001b[43m_sslobj\u001b[49m\u001b[38;5;241;43m.\u001b[39;49m\u001b[43mread\u001b[49m\u001b[43m(\u001b[49m\u001b[38;5;28;43mlen\u001b[39;49m\u001b[43m,\u001b[49m\u001b[43m \u001b[49m\u001b[43mbuffer\u001b[49m\u001b[43m)\u001b[49m\n\u001b[1;32m   1100\u001b[0m     \u001b[38;5;28;01melse\u001b[39;00m:\n\u001b[1;32m   1101\u001b[0m         \u001b[38;5;28;01mreturn\u001b[39;00m \u001b[38;5;28mself\u001b[39m\u001b[38;5;241m.\u001b[39m_sslobj\u001b[38;5;241m.\u001b[39mread(\u001b[38;5;28mlen\u001b[39m)\n",
      "\u001b[0;31mKeyboardInterrupt\u001b[0m: "
     ]
    }
   ],
   "source": [
    "import json\n",
    "from sseclient import SSEClient as EventSource\n",
    "\n",
    "url = 'https://stream.wikimedia.org/v2/stream/recentchange'\n",
    "namespace_dict = init_namespaces()\n",
    "for event in EventSource(url):\n",
    "    if event.event == 'message':\n",
    "        try:\n",
    "            event_data = json.loads(event.data)\n",
    "        except ValueError:\n",
    "            pass\n",
    "        else:\n",
    "            if event_data['type'] != 'log':\n",
    "                # construct valid json event\n",
    "                event_to_send = construct_event(event_data, user_types)\n",
    "                #print(event_to_send)\n",
    "                p.produce(event_data['type'], value=json.dumps(event_to_send))\n",
    "                p.poll(0)\n",
    "                p.flush()"
   ]
  }
 ],
 "metadata": {
  "kernelspec": {
   "display_name": "Python 3 (ipykernel)",
   "language": "python",
   "name": "python3"
  },
  "language_info": {
   "codemirror_mode": {
    "name": "ipython",
    "version": 3
   },
   "file_extension": ".py",
   "mimetype": "text/x-python",
   "name": "python",
   "nbconvert_exporter": "python",
   "pygments_lexer": "ipython3",
   "version": "3.9.2"
  }
 },
 "nbformat": 4,
 "nbformat_minor": 5
}
