{
 "cells": [
  {
   "cell_type": "code",
   "execution_count": 1,
   "id": "5a8b9a94",
   "metadata": {},
   "outputs": [
    {
     "name": "stdout",
     "output_type": "stream",
     "text": [
      "Collecting confluent_kafka\n",
      "  Downloading confluent_kafka-2.3.0-cp311-cp311-manylinux_2_17_x86_64.manylinux2014_x86_64.whl.metadata (2.3 kB)\n",
      "Collecting sseclient\n",
      "  Downloading sseclient-0.0.27.tar.gz (7.5 kB)\n",
      "  Preparing metadata (setup.py) ... \u001b[?25ldone\n",
      "\u001b[?25hRequirement already satisfied: requests>=2.9 in /opt/conda/lib/python3.11/site-packages (from sseclient) (2.31.0)\n",
      "Requirement already satisfied: six in /opt/conda/lib/python3.11/site-packages (from sseclient) (1.16.0)\n",
      "Requirement already satisfied: charset-normalizer<4,>=2 in /opt/conda/lib/python3.11/site-packages (from requests>=2.9->sseclient) (3.3.2)\n",
      "Requirement already satisfied: idna<4,>=2.5 in /opt/conda/lib/python3.11/site-packages (from requests>=2.9->sseclient) (3.6)\n",
      "Requirement already satisfied: urllib3<3,>=1.21.1 in /opt/conda/lib/python3.11/site-packages (from requests>=2.9->sseclient) (2.2.0)\n",
      "Requirement already satisfied: certifi>=2017.4.17 in /opt/conda/lib/python3.11/site-packages (from requests>=2.9->sseclient) (2024.2.2)\n",
      "Downloading confluent_kafka-2.3.0-cp311-cp311-manylinux_2_17_x86_64.manylinux2014_x86_64.whl (4.0 MB)\n",
      "\u001b[2K   \u001b[90m━━━━━━━━━━━━━━━━━━━━━━━━━━━━━━━━━━━━━━━━\u001b[0m \u001b[32m4.0/4.0 MB\u001b[0m \u001b[31m14.1 MB/s\u001b[0m eta \u001b[36m0:00:00\u001b[0m00:01\u001b[0m00:01\u001b[0m\n",
      "\u001b[?25hBuilding wheels for collected packages: sseclient\n",
      "  Building wheel for sseclient (setup.py) ... \u001b[?25ldone\n",
      "\u001b[?25h  Created wheel for sseclient: filename=sseclient-0.0.27-py3-none-any.whl size=5563 sha256=49b7f649d8644b1ed087308d3b637ff44a4e6e0bfd252aa9dd524f34d101be38\n",
      "  Stored in directory: /home/jovyan/.cache/pip/wheels/7c/54/eb/a223b1599728ecaf0528281c17c96c503aa7d18a752a4e4e3a\n",
      "Successfully built sseclient\n",
      "Installing collected packages: confluent_kafka, sseclient\n",
      "Successfully installed confluent_kafka-2.3.0 sseclient-0.0.27\n"
     ]
    }
   ],
   "source": [
    "!pip install confluent_kafka sseclient"
   ]
  },
  {
   "cell_type": "code",
   "execution_count": 1,
   "id": "2e778584",
   "metadata": {},
   "outputs": [],
   "source": [
    "from confluent_kafka import SerializingProducer, DeserializingConsumer\n",
    "from confluent_kafka.serialization import StringSerializer, StringDeserializer\n",
    "from confluent_kafka.admin import AdminClient, NewTopic\n",
    "from uuid import uuid4\n",
    "import sys, random\n",
    "\n",
    "brokers = \"kafka1:9092,kafka2:9093\""
   ]
  },
  {
   "cell_type": "code",
   "execution_count": 2,
   "id": "ef7871fb",
   "metadata": {},
   "outputs": [],
   "source": [
    "pconf = {\n",
    "    'bootstrap.servers': brokers,\n",
    "    'partitioner': 'murmur2_random',\n",
    "    'key.serializer': StringSerializer('utf_8'),\n",
    "    'value.serializer':  StringSerializer('utf_8')\n",
    "}"
   ]
  },
  {
   "cell_type": "code",
   "execution_count": 3,
   "id": "46183cdf",
   "metadata": {},
   "outputs": [],
   "source": [
    "p = SerializingProducer(pconf)"
   ]
  },
  {
   "cell_type": "code",
   "execution_count": 4,
   "id": "be76611f",
   "metadata": {},
   "outputs": [],
   "source": [
    "taxies = \"sample.csv\""
   ]
  },
  {
   "cell_type": "code",
   "execution_count": 5,
   "id": "fd849c8f",
   "metadata": {},
   "outputs": [],
   "source": [
    "from datetime import datetime  \n",
    "  #2023-10-13T08:16:13Z\n",
    "def construct_ride(row):\n",
    "    time_stamp = time.time()\n",
    "    date_time = datetime.fromtimestamp(time_stamp)\n",
    "    str_date_time = date_time.strftime(\"%Y-%m-%dT%H:%M:%SZ\") #\"%d-%m-%Y, %H:%M:%S\"\n",
    "    ride = {\"vendor_id\": row[2],\n",
    "             \"pickup_datetime\": row[5],\n",
    "             \"droppff_datetime\":row[5],\n",
    "            \"pickup_longitude\": float(row[10]),\n",
    "            \"pickup_latitude\": float(row[11]),\n",
    "            \"dropoff_longitude\": float(row[12]),\n",
    "            \"dropoff_latitude\": float(row[13]),\n",
    "             \"timestamp\":str_date_time\n",
    "             }\n",
    "    return ride"
   ]
  },
  {
   "cell_type": "code",
   "execution_count": 7,
   "id": "06e266f9",
   "metadata": {},
   "outputs": [
    {
     "name": "stdout",
     "output_type": "stream",
     "text": [
      "['89D227B655E5C82AECF13C3F540D4CF4', 'BA96DE419E711691B9445D6A6307C170', 'CMT', '1', 'N', '2013-01-01 15:11:48', '2013-01-01 15:18:10', '4', '382', '1.00', '-73.978165', '40.757977', '-73.989838', '40.751171']\n",
      "{'vendor_id': 'CMT', 'pickup_datetime': '2013-01-01 15:11:48', 'droppff_datetime': '2013-01-01 15:11:48', 'pickup_longitude': '-73.978165', 'pickup_latitude': '40.757977', 'dropoff_longitude': '-73.989838', 'dropoff_latitude': '40.751171', 'timestamp': '2024-05-07T06:53:59Z'}\n",
      "['0BD7C8F5BA12B88E0B67BED28BEA73D8', '9FD8F69F0804BDB5549F40E9DA1BE472', 'CMT', '1', 'N', '2013-01-06 00:18:35', '2013-01-06 00:22:54', '1', '259', '1.50', '-74.006683', '40.731781', '-73.994499', '40.75066']\n",
      "{'vendor_id': 'CMT', 'pickup_datetime': '2013-01-06 00:18:35', 'droppff_datetime': '2013-01-06 00:18:35', 'pickup_longitude': '-74.006683', 'pickup_latitude': '40.731781', 'dropoff_longitude': '-73.994499', 'dropoff_latitude': '40.75066', 'timestamp': '2024-05-07T06:53:59Z'}\n",
      "['0BD7C8F5BA12B88E0B67BED28BEA73D8', '9FD8F69F0804BDB5549F40E9DA1BE472', 'CMT', '1', 'N', '2013-01-05 18:49:41', '2013-01-05 18:54:23', '1', '282', '1.10', '-74.004707', '40.73777', '-74.009834', '40.726002']\n",
      "{'vendor_id': 'CMT', 'pickup_datetime': '2013-01-05 18:49:41', 'droppff_datetime': '2013-01-05 18:49:41', 'pickup_longitude': '-74.004707', 'pickup_latitude': '40.73777', 'dropoff_longitude': '-74.009834', 'dropoff_latitude': '40.726002', 'timestamp': '2024-05-07T06:54:00Z'}\n",
      "['DFD2202EE08F7A8DC9A57B02ACB81FE2', '51EE87E3205C985EF8431D850C786310', 'CMT', '1', 'N', '2013-01-07 23:54:15', '2013-01-07 23:58:20', '2', '244', '.70', '-73.974602', '40.759945', '-73.984734', '40.759388']\n",
      "{'vendor_id': 'CMT', 'pickup_datetime': '2013-01-07 23:54:15', 'droppff_datetime': '2013-01-07 23:54:15', 'pickup_longitude': '-73.974602', 'pickup_latitude': '40.759945', 'dropoff_longitude': '-73.984734', 'dropoff_latitude': '40.759388', 'timestamp': '2024-05-07T06:54:00Z'}\n",
      "['DFD2202EE08F7A8DC9A57B02ACB81FE2', '51EE87E3205C985EF8431D850C786310', 'CMT', '1', 'N', '2013-01-07 23:25:03', '2013-01-07 23:34:24', '1', '560', '2.10', '-73.97625', '40.748528', '-74.002586', '40.747868']\n",
      "{'vendor_id': 'CMT', 'pickup_datetime': '2013-01-07 23:25:03', 'droppff_datetime': '2013-01-07 23:25:03', 'pickup_longitude': '-73.97625', 'pickup_latitude': '40.748528', 'dropoff_longitude': '-74.002586', 'dropoff_latitude': '40.747868', 'timestamp': '2024-05-07T06:54:01Z'}\n",
      "['20D9ECB2CA0767CF7A01564DF2844A3E', '598CCE5B9C1918568DEE71F43CF26CD2', 'CMT', '1', 'N', '2013-01-07 15:27:48', '2013-01-07 15:38:37', '1', '648', '1.70', '-73.966743', '40.764252', '-73.983322', '40.743763']\n",
      "{'vendor_id': 'CMT', 'pickup_datetime': '2013-01-07 15:27:48', 'droppff_datetime': '2013-01-07 15:27:48', 'pickup_longitude': '-73.966743', 'pickup_latitude': '40.764252', 'dropoff_longitude': '-73.983322', 'dropoff_latitude': '40.743763', 'timestamp': '2024-05-07T06:54:01Z'}\n",
      "['496644932DF3932605C22C7926FF0FE0', '513189AD756FF14FE670D10B92FAF04C', 'CMT', '1', 'N', '2013-01-08 11:01:15', '2013-01-08 11:08:14', '1', '418', '.80', '-73.995804', '40.743977', '-74.007416', '40.744343']\n",
      "{'vendor_id': 'CMT', 'pickup_datetime': '2013-01-08 11:01:15', 'droppff_datetime': '2013-01-08 11:01:15', 'pickup_longitude': '-73.995804', 'pickup_latitude': '40.743977', 'dropoff_longitude': '-74.007416', 'dropoff_latitude': '40.744343', 'timestamp': '2024-05-07T06:54:02Z'}\n",
      "['0B57B9633A2FECD3D3B1944AFC7471CF', 'CCD4367B417ED6634D986F573A552A62', 'CMT', '1', 'N', '2013-01-07 12:39:18', '2013-01-07 13:10:56', '3', '1898', '10.70', '-73.989937', '40.756775', '-73.86525', '40.77063']\n",
      "{'vendor_id': 'CMT', 'pickup_datetime': '2013-01-07 12:39:18', 'droppff_datetime': '2013-01-07 12:39:18', 'pickup_longitude': '-73.989937', 'pickup_latitude': '40.756775', 'dropoff_longitude': '-73.86525', 'dropoff_latitude': '40.77063', 'timestamp': '2024-05-07T06:54:02Z'}\n",
      "['2C0E91FF20A856C891483ED63589F982', '1DA2F6543A62B8ED934771661A9D2FA0', 'CMT', '1', 'N', '2013-01-07 18:15:47', '2013-01-07 18:20:47', '1', '299', '.80', '-73.980072', '40.743137', '-73.982712', '40.735336']\n",
      "{'vendor_id': 'CMT', 'pickup_datetime': '2013-01-07 18:15:47', 'droppff_datetime': '2013-01-07 18:15:47', 'pickup_longitude': '-73.980072', 'pickup_latitude': '40.743137', 'dropoff_longitude': '-73.982712', 'dropoff_latitude': '40.735336', 'timestamp': '2024-05-07T06:54:03Z'}\n",
      "['2D4B95E2FA7B2E85118EC5CA4570FA58', 'CD2F522EEE1FF5F5A8D8B679E23576B3', 'CMT', '1', 'N', '2013-01-07 15:33:28', '2013-01-07 15:49:26', '2', '957', '2.50', '-73.977936', '40.786983', '-73.952919', '40.80637']\n",
      "{'vendor_id': 'CMT', 'pickup_datetime': '2013-01-07 15:33:28', 'droppff_datetime': '2013-01-07 15:33:28', 'pickup_longitude': '-73.977936', 'pickup_latitude': '40.786983', 'dropoff_longitude': '-73.952919', 'dropoff_latitude': '40.80637', 'timestamp': '2024-05-07T06:54:03Z'}\n",
      "['E12F6AF991172EAC3553144A0AF75A19', '06918214E951FA0003D1CC54955C2AB0', 'CMT', '1', 'N', '2013-01-08 13:11:52', '2013-01-08 13:19:50', '1', '477', '1.30', '-73.982452', '40.773167', '-73.964134', '40.773815']\n"
     ]
    }
   ],
   "source": [
    "import csv, json\n",
    "import time\n",
    "n = 0\n",
    "with open(taxies) as csv_file:\n",
    "    csv_reader = csv.reader(csv_file, delimiter=',')\n",
    "    next(csv_reader, None) # Skipping the headers\n",
    "    try:\n",
    "        for row in csv_reader:\n",
    "            print(row)\n",
    "            if n == 10:\n",
    "               break\n",
    "            ride = construct_ride(row)\n",
    "            print(ride)\n",
    "            p.produce('ride', value=json.dumps(ride))\n",
    "            p.poll(0)\n",
    "            #p.flush()\n",
    "            time.sleep(0.5)\n",
    "            n = n + 1\n",
    "    except BufferError:\n",
    "        sys.stderr.write('%% Local producer queue is full (%d messages awaiting delivery): try again\\n' % len(p))\n"
   ]
  },
  {
   "cell_type": "markdown",
   "id": "5d0a3766-7c7e-4792-8929-e92740f7aed7",
   "metadata": {},
   "source": [
    "### Use only if you need to purge all the messages in the queue"
   ]
  },
  {
   "cell_type": "code",
   "execution_count": null,
   "id": "c449281e-8c82-4d8f-a9db-030d2dcdcf07",
   "metadata": {},
   "outputs": [],
   "source": [
    "brokers = \"kafka1:9092,kafka2:9093\"\n",
    "\n",
    "admin_client = AdminClient({\"bootstrap.servers\":brokers})\n",
    "admin_client.delete_topics(topics=['stock'])"
   ]
  },
  {
   "cell_type": "code",
   "execution_count": null,
   "id": "25d88831-9a75-44ce-8486-8d0ece9f92fb",
   "metadata": {},
   "outputs": [],
   "source": []
  }
 ],
 "metadata": {
  "kernelspec": {
   "display_name": "Python 3 (ipykernel)",
   "language": "python",
   "name": "python3"
  },
  "language_info": {
   "codemirror_mode": {
    "name": "ipython",
    "version": 3
   },
   "file_extension": ".py",
   "mimetype": "text/x-python",
   "name": "python",
   "nbconvert_exporter": "python",
   "pygments_lexer": "ipython3",
   "version": "3.11.7"
  }
 },
 "nbformat": 4,
 "nbformat_minor": 5
}
