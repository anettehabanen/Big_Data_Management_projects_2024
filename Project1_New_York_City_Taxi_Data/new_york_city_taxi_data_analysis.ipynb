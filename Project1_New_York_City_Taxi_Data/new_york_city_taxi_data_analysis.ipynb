{
 "cells": [
  {
   "cell_type": "code",
   "execution_count": null,
   "metadata": {},
   "outputs": [],
   "source": [
    "# This is the project code."
   ]
  },
  {
   "cell_type": "code",
   "execution_count": 2,
   "metadata": {},
   "outputs": [],
   "source": [
    "import pyspark\n",
    "from delta import *\n",
    "\n",
    "builder = pyspark.sql.SparkSession.builder.appName(\"DF2_Practice\") \\\n",
    "    .config(\"spark.sql.extensions\", \"io.delta.sql.DeltaSparkSessionExtension\") \\\n",
    "    .config(\"spark.sql.catalog.spark_catalog\", \"org.apache.spark.sql.delta.catalog.DeltaCatalog\") \n",
    "\n",
    "spark = configure_spark_with_delta_pip(builder).getOrCreate()\n",
    "\n",
    "spark.conf.set(\"spark.sql.repl.eagerEval.enabled\",True) # OK for exploration, not great for performance\n",
    "spark.conf.set(\"spark.sql.repl.eagerEval.truncate\", 500)"
   ]
  },
  {
   "cell_type": "code",
   "execution_count": 59,
   "metadata": {},
   "outputs": [],
   "source": [
    "import pandas as pd\n",
    "import json\n",
    "import numpy as np\n",
    "import shapely\n",
    "from shapely import Point\n",
    "from shapely.geometry import mapping, shape"
   ]
  },
  {
   "cell_type": "markdown",
   "metadata": {},
   "source": [
    "## Reading in data"
   ]
  },
  {
   "cell_type": "code",
   "execution_count": 50,
   "metadata": {},
   "outputs": [],
   "source": [
    "taxiDataDf = (spark.read\n",
    "             .option(\"sep\", \",\") # separator\n",
    "             .option(\"header\", True) # file has header row\n",
    "             .option(\"inferSchema\", True) # spark tries to infer data types\n",
    "             .csv(\"sample.csv\") #path\n",
    "            )"
   ]
  },
  {
   "cell_type": "code",
   "execution_count": 51,
   "metadata": {},
   "outputs": [
    {
     "data": {
      "text/html": [
       "<table border='1'>\n",
       "<tr><th>medallion</th><th>hack_license</th><th>vendor_id</th><th>rate_code</th><th>store_and_fwd_flag</th><th>pickup_datetime</th><th>dropoff_datetime</th><th>passenger_count</th><th>trip_time_in_secs</th><th>trip_distance</th><th>pickup_longitude</th><th>pickup_latitude</th><th>dropoff_longitude</th><th>dropoff_latitude</th></tr>\n",
       "<tr><td>89D227B655E5C82AECF13C3F540D4CF4</td><td>BA96DE419E711691B9445D6A6307C170</td><td>CMT</td><td>1</td><td>N</td><td>2013-01-01 15:11:48</td><td>2013-01-01 15:18:10</td><td>4</td><td>382</td><td>1.0</td><td>-73.978165</td><td>40.757977</td><td>-73.989838</td><td>40.751171</td></tr>\n",
       "<tr><td>0BD7C8F5BA12B88E0B67BED28BEA73D8</td><td>9FD8F69F0804BDB5549F40E9DA1BE472</td><td>CMT</td><td>1</td><td>N</td><td>2013-01-06 00:18:35</td><td>2013-01-06 00:22:54</td><td>1</td><td>259</td><td>1.5</td><td>-74.006683</td><td>40.731781</td><td>-73.994499</td><td>40.75066</td></tr>\n",
       "<tr><td>0BD7C8F5BA12B88E0B67BED28BEA73D8</td><td>9FD8F69F0804BDB5549F40E9DA1BE472</td><td>CMT</td><td>1</td><td>N</td><td>2013-01-05 18:49:41</td><td>2013-01-05 18:54:23</td><td>1</td><td>282</td><td>1.1</td><td>-74.004707</td><td>40.73777</td><td>-74.009834</td><td>40.726002</td></tr>\n",
       "<tr><td>DFD2202EE08F7A8DC9A57B02ACB81FE2</td><td>51EE87E3205C985EF8431D850C786310</td><td>CMT</td><td>1</td><td>N</td><td>2013-01-07 23:54:15</td><td>2013-01-07 23:58:20</td><td>2</td><td>244</td><td>0.7</td><td>-73.974602</td><td>40.759945</td><td>-73.984734</td><td>40.759388</td></tr>\n",
       "<tr><td>DFD2202EE08F7A8DC9A57B02ACB81FE2</td><td>51EE87E3205C985EF8431D850C786310</td><td>CMT</td><td>1</td><td>N</td><td>2013-01-07 23:25:03</td><td>2013-01-07 23:34:24</td><td>1</td><td>560</td><td>2.1</td><td>-73.97625</td><td>40.748528</td><td>-74.002586</td><td>40.747868</td></tr>\n",
       "<tr><td>20D9ECB2CA0767CF7A01564DF2844A3E</td><td>598CCE5B9C1918568DEE71F43CF26CD2</td><td>CMT</td><td>1</td><td>N</td><td>2013-01-07 15:27:48</td><td>2013-01-07 15:38:37</td><td>1</td><td>648</td><td>1.7</td><td>-73.966743</td><td>40.764252</td><td>-73.983322</td><td>40.743763</td></tr>\n",
       "<tr><td>496644932DF3932605C22C7926FF0FE0</td><td>513189AD756FF14FE670D10B92FAF04C</td><td>CMT</td><td>1</td><td>N</td><td>2013-01-08 11:01:15</td><td>2013-01-08 11:08:14</td><td>1</td><td>418</td><td>0.8</td><td>-73.995804</td><td>40.743977</td><td>-74.007416</td><td>40.744343</td></tr>\n",
       "<tr><td>0B57B9633A2FECD3D3B1944AFC7471CF</td><td>CCD4367B417ED6634D986F573A552A62</td><td>CMT</td><td>1</td><td>N</td><td>2013-01-07 12:39:18</td><td>2013-01-07 13:10:56</td><td>3</td><td>1898</td><td>10.7</td><td>-73.989937</td><td>40.756775</td><td>-73.86525</td><td>40.77063</td></tr>\n",
       "<tr><td>2C0E91FF20A856C891483ED63589F982</td><td>1DA2F6543A62B8ED934771661A9D2FA0</td><td>CMT</td><td>1</td><td>N</td><td>2013-01-07 18:15:47</td><td>2013-01-07 18:20:47</td><td>1</td><td>299</td><td>0.8</td><td>-73.980072</td><td>40.743137</td><td>-73.982712</td><td>40.735336</td></tr>\n",
       "<tr><td>2D4B95E2FA7B2E85118EC5CA4570FA58</td><td>CD2F522EEE1FF5F5A8D8B679E23576B3</td><td>CMT</td><td>1</td><td>N</td><td>2013-01-07 15:33:28</td><td>2013-01-07 15:49:26</td><td>2</td><td>957</td><td>2.5</td><td>-73.977936</td><td>40.786983</td><td>-73.952919</td><td>40.80637</td></tr>\n",
       "<tr><td>E12F6AF991172EAC3553144A0AF75A19</td><td>06918214E951FA0003D1CC54955C2AB0</td><td>CMT</td><td>1</td><td>N</td><td>2013-01-08 13:11:52</td><td>2013-01-08 13:19:50</td><td>1</td><td>477</td><td>1.3</td><td>-73.982452</td><td>40.773167</td><td>-73.964134</td><td>40.773815</td></tr>\n",
       "<tr><td>E12F6AF991172EAC3553144A0AF75A19</td><td>06918214E951FA0003D1CC54955C2AB0</td><td>CMT</td><td>1</td><td>N</td><td>2013-01-08 09:50:05</td><td>2013-01-08 10:02:54</td><td>1</td><td>768</td><td>0.7</td><td>-73.99556</td><td>40.749294</td><td>-73.988686</td><td>40.759052</td></tr>\n",
       "<tr><td>78FFD9CD0CDA541F335EF8B38FB494D6</td><td>E949C583ECF62C8F03FDCE1484954A08</td><td>CMT</td><td>1</td><td>N</td><td>2013-01-10 12:07:08</td><td>2013-01-10 12:17:29</td><td>1</td><td>620</td><td>2.3</td><td>-73.971497</td><td>40.791321</td><td>-73.964478</td><td>40.775921</td></tr>\n",
       "<tr><td>237F49C3ECC11F5024B254268F054384</td><td>93C363DDF8ED9385D65FAD07CE3F5F07</td><td>CMT</td><td>1</td><td>N</td><td>2013-01-07 07:35:47</td><td>2013-01-07 07:46:00</td><td>1</td><td>612</td><td>2.3</td><td>-73.98851</td><td>40.774307</td><td>-73.981094</td><td>40.755325</td></tr>\n",
       "<tr><td>3349F919AA8AE5DC9C50A3773EA45BD8</td><td>7CE849FEF67514F080AF80D990F7EF7F</td><td>CMT</td><td>1</td><td>N</td><td>2013-01-10 15:42:29</td><td>2013-01-10 16:04:02</td><td>1</td><td>1293</td><td>3.2</td><td>-73.994911</td><td>40.723221</td><td>-73.971558</td><td>40.761612</td></tr>\n",
       "<tr><td>3349F919AA8AE5DC9C50A3773EA45BD8</td><td>7CE849FEF67514F080AF80D990F7EF7F</td><td>CMT</td><td>1</td><td>N</td><td>2013-01-10 14:27:28</td><td>2013-01-10 14:45:21</td><td>1</td><td>1073</td><td>4.4</td><td>-74.010391</td><td>40.708702</td><td>-73.987846</td><td>40.756104</td></tr>\n",
       "<tr><td>4C005EEBAA7BF26B84B21586332488A2</td><td>351BE7D984BE17DB2FA80A748E816472</td><td>CMT</td><td>1</td><td>N</td><td>2013-01-07 22:09:59</td><td>2013-01-07 22:19:50</td><td>1</td><td>591</td><td>1.7</td><td>-73.973732</td><td>40.756287</td><td>-73.998413</td><td>40.756832</td></tr>\n",
       "<tr><td>7D99C30FCE69B1A9DD27E2AEAC9BFA0C</td><td>460C3F57DD9CB2265DB75B14CD70224D</td><td>CMT</td><td>1</td><td>N</td><td>2013-01-07 17:18:16</td><td>2013-01-07 17:20:55</td><td>1</td><td>158</td><td>0.7</td><td>-73.968925</td><td>40.767704</td><td>-73.96199</td><td>40.776566</td></tr>\n",
       "<tr><td>E6FBF80668FE0611AEA44FD9574A7E32</td><td>36773E80775F26CD1158EB5450A61C79</td><td>CMT</td><td>1</td><td>N</td><td>2013-01-07 06:08:51</td><td>2013-01-07 06:13:14</td><td>1</td><td>262</td><td>1.7</td><td>-73.96212</td><td>40.769737</td><td>-73.979561</td><td>40.75539</td></tr>\n",
       "<tr><td>0C5296F3C8B16E702F8F2E06F5106552</td><td>D2363240A9295EF570FC6069BC4F4C92</td><td>CMT</td><td>1</td><td>N</td><td>2013-01-07 22:25:46</td><td>2013-01-07 22:36:56</td><td>1</td><td>669</td><td>2.3</td><td>-73.989708</td><td>40.756714</td><td>-73.977615</td><td>40.787575</td></tr>\n",
       "</table>\n",
       "only showing top 20 rows\n"
      ],
      "text/plain": [
       "+--------------------------------+--------------------------------+---------+---------+------------------+-------------------+-------------------+---------------+-----------------+-------------+----------------+---------------+-----------------+----------------+\n",
       "|                       medallion|                    hack_license|vendor_id|rate_code|store_and_fwd_flag|    pickup_datetime|   dropoff_datetime|passenger_count|trip_time_in_secs|trip_distance|pickup_longitude|pickup_latitude|dropoff_longitude|dropoff_latitude|\n",
       "+--------------------------------+--------------------------------+---------+---------+------------------+-------------------+-------------------+---------------+-----------------+-------------+----------------+---------------+-----------------+----------------+\n",
       "|89D227B655E5C82AECF13C3F540D4CF4|BA96DE419E711691B9445D6A6307C170|      CMT|        1|                 N|2013-01-01 15:11:48|2013-01-01 15:18:10|              4|              382|          1.0|      -73.978165|      40.757977|       -73.989838|       40.751171|\n",
       "|0BD7C8F5BA12B88E0B67BED28BEA73D8|9FD8F69F0804BDB5549F40E9DA1BE472|      CMT|        1|                 N|2013-01-06 00:18:35|2013-01-06 00:22:54|              1|              259|          1.5|      -74.006683|      40.731781|       -73.994499|        40.75066|\n",
       "|0BD7C8F5BA12B88E0B67BED28BEA73D8|9FD8F69F0804BDB5549F40E9DA1BE472|      CMT|        1|                 N|2013-01-05 18:49:41|2013-01-05 18:54:23|              1|              282|          1.1|      -74.004707|       40.73777|       -74.009834|       40.726002|\n",
       "|DFD2202EE08F7A8DC9A57B02ACB81FE2|51EE87E3205C985EF8431D850C786310|      CMT|        1|                 N|2013-01-07 23:54:15|2013-01-07 23:58:20|              2|              244|          0.7|      -73.974602|      40.759945|       -73.984734|       40.759388|\n",
       "|DFD2202EE08F7A8DC9A57B02ACB81FE2|51EE87E3205C985EF8431D850C786310|      CMT|        1|                 N|2013-01-07 23:25:03|2013-01-07 23:34:24|              1|              560|          2.1|       -73.97625|      40.748528|       -74.002586|       40.747868|\n",
       "|20D9ECB2CA0767CF7A01564DF2844A3E|598CCE5B9C1918568DEE71F43CF26CD2|      CMT|        1|                 N|2013-01-07 15:27:48|2013-01-07 15:38:37|              1|              648|          1.7|      -73.966743|      40.764252|       -73.983322|       40.743763|\n",
       "|496644932DF3932605C22C7926FF0FE0|513189AD756FF14FE670D10B92FAF04C|      CMT|        1|                 N|2013-01-08 11:01:15|2013-01-08 11:08:14|              1|              418|          0.8|      -73.995804|      40.743977|       -74.007416|       40.744343|\n",
       "|0B57B9633A2FECD3D3B1944AFC7471CF|CCD4367B417ED6634D986F573A552A62|      CMT|        1|                 N|2013-01-07 12:39:18|2013-01-07 13:10:56|              3|             1898|         10.7|      -73.989937|      40.756775|        -73.86525|        40.77063|\n",
       "|2C0E91FF20A856C891483ED63589F982|1DA2F6543A62B8ED934771661A9D2FA0|      CMT|        1|                 N|2013-01-07 18:15:47|2013-01-07 18:20:47|              1|              299|          0.8|      -73.980072|      40.743137|       -73.982712|       40.735336|\n",
       "|2D4B95E2FA7B2E85118EC5CA4570FA58|CD2F522EEE1FF5F5A8D8B679E23576B3|      CMT|        1|                 N|2013-01-07 15:33:28|2013-01-07 15:49:26|              2|              957|          2.5|      -73.977936|      40.786983|       -73.952919|        40.80637|\n",
       "|E12F6AF991172EAC3553144A0AF75A19|06918214E951FA0003D1CC54955C2AB0|      CMT|        1|                 N|2013-01-08 13:11:52|2013-01-08 13:19:50|              1|              477|          1.3|      -73.982452|      40.773167|       -73.964134|       40.773815|\n",
       "|E12F6AF991172EAC3553144A0AF75A19|06918214E951FA0003D1CC54955C2AB0|      CMT|        1|                 N|2013-01-08 09:50:05|2013-01-08 10:02:54|              1|              768|          0.7|       -73.99556|      40.749294|       -73.988686|       40.759052|\n",
       "|78FFD9CD0CDA541F335EF8B38FB494D6|E949C583ECF62C8F03FDCE1484954A08|      CMT|        1|                 N|2013-01-10 12:07:08|2013-01-10 12:17:29|              1|              620|          2.3|      -73.971497|      40.791321|       -73.964478|       40.775921|\n",
       "|237F49C3ECC11F5024B254268F054384|93C363DDF8ED9385D65FAD07CE3F5F07|      CMT|        1|                 N|2013-01-07 07:35:47|2013-01-07 07:46:00|              1|              612|          2.3|       -73.98851|      40.774307|       -73.981094|       40.755325|\n",
       "|3349F919AA8AE5DC9C50A3773EA45BD8|7CE849FEF67514F080AF80D990F7EF7F|      CMT|        1|                 N|2013-01-10 15:42:29|2013-01-10 16:04:02|              1|             1293|          3.2|      -73.994911|      40.723221|       -73.971558|       40.761612|\n",
       "|3349F919AA8AE5DC9C50A3773EA45BD8|7CE849FEF67514F080AF80D990F7EF7F|      CMT|        1|                 N|2013-01-10 14:27:28|2013-01-10 14:45:21|              1|             1073|          4.4|      -74.010391|      40.708702|       -73.987846|       40.756104|\n",
       "|4C005EEBAA7BF26B84B21586332488A2|351BE7D984BE17DB2FA80A748E816472|      CMT|        1|                 N|2013-01-07 22:09:59|2013-01-07 22:19:50|              1|              591|          1.7|      -73.973732|      40.756287|       -73.998413|       40.756832|\n",
       "|7D99C30FCE69B1A9DD27E2AEAC9BFA0C|460C3F57DD9CB2265DB75B14CD70224D|      CMT|        1|                 N|2013-01-07 17:18:16|2013-01-07 17:20:55|              1|              158|          0.7|      -73.968925|      40.767704|        -73.96199|       40.776566|\n",
       "|E6FBF80668FE0611AEA44FD9574A7E32|36773E80775F26CD1158EB5450A61C79|      CMT|        1|                 N|2013-01-07 06:08:51|2013-01-07 06:13:14|              1|              262|          1.7|       -73.96212|      40.769737|       -73.979561|        40.75539|\n",
       "|0C5296F3C8B16E702F8F2E06F5106552|D2363240A9295EF570FC6069BC4F4C92|      CMT|        1|                 N|2013-01-07 22:25:46|2013-01-07 22:36:56|              1|              669|          2.3|      -73.989708|      40.756714|       -73.977615|       40.787575|\n",
       "+--------------------------------+--------------------------------+---------+---------+------------------+-------------------+-------------------+---------------+-----------------+-------------+----------------+---------------+-----------------+----------------+\n",
       "only showing top 20 rows"
      ]
     },
     "metadata": {},
     "output_type": "display_data"
    }
   ],
   "source": [
    "display(taxiDataDf)"
   ]
  },
  {
   "cell_type": "code",
   "execution_count": 79,
   "metadata": {},
   "outputs": [],
   "source": [
    "with open('nyc-boroughs.geojson') as file:\n",
    "    boroughs = json.load(file)\n",
    "\n",
    "features = boroughs['features']\n",
    "\n",
    "properties = [feature['properties'] for feature in features]\n",
    "geometry = [feature['geometry'] for feature in features]\n",
    "properties_df = pd.DataFrame(properties)\n",
    "geometry_df = pd.DataFrame(geometry)\n",
    "borough_df = pd.concat([properties_df, geometry_df], axis=1)"
   ]
  },
  {
   "cell_type": "code",
   "execution_count": 80,
   "metadata": {},
   "outputs": [
    {
     "data": {
      "text/html": [
       "<div>\n",
       "<style scoped>\n",
       "    .dataframe tbody tr th:only-of-type {\n",
       "        vertical-align: middle;\n",
       "    }\n",
       "\n",
       "    .dataframe tbody tr th {\n",
       "        vertical-align: top;\n",
       "    }\n",
       "\n",
       "    .dataframe thead th {\n",
       "        text-align: right;\n",
       "    }\n",
       "</style>\n",
       "<table border=\"1\" class=\"dataframe\">\n",
       "  <thead>\n",
       "    <tr style=\"text-align: right;\">\n",
       "      <th></th>\n",
       "      <th>boroughCode</th>\n",
       "      <th>borough</th>\n",
       "      <th>@id</th>\n",
       "      <th>type</th>\n",
       "      <th>coordinates</th>\n",
       "    </tr>\n",
       "  </thead>\n",
       "  <tbody>\n",
       "    <tr>\n",
       "      <th>0</th>\n",
       "      <td>5</td>\n",
       "      <td>Staten Island</td>\n",
       "      <td>http://nyc.pediacities.com/Resource/Borough/St...</td>\n",
       "      <td>Polygon</td>\n",
       "      <td>[[[-74.05050806403247, 40.566422034160816], [-...</td>\n",
       "    </tr>\n",
       "    <tr>\n",
       "      <th>1</th>\n",
       "      <td>5</td>\n",
       "      <td>Staten Island</td>\n",
       "      <td>http://nyc.pediacities.com/Resource/Borough/St...</td>\n",
       "      <td>Polygon</td>\n",
       "      <td>[[[-74.05314036821109, 40.577702715545755], [-...</td>\n",
       "    </tr>\n",
       "    <tr>\n",
       "      <th>2</th>\n",
       "      <td>5</td>\n",
       "      <td>Staten Island</td>\n",
       "      <td>http://nyc.pediacities.com/Resource/Borough/St...</td>\n",
       "      <td>Polygon</td>\n",
       "      <td>[[[-74.15945602438188, 40.641448333324036], [-...</td>\n",
       "    </tr>\n",
       "    <tr>\n",
       "      <th>3</th>\n",
       "      <td>5</td>\n",
       "      <td>Staten Island</td>\n",
       "      <td>http://nyc.pediacities.com/Resource/Borough/St...</td>\n",
       "      <td>Polygon</td>\n",
       "      <td>[[[-74.08221272914938, 40.64828016229008], [-7...</td>\n",
       "    </tr>\n",
       "    <tr>\n",
       "      <th>4</th>\n",
       "      <td>4</td>\n",
       "      <td>Queens</td>\n",
       "      <td>http://nyc.pediacities.com/Resource/Borough/Qu...</td>\n",
       "      <td>Polygon</td>\n",
       "      <td>[[[-73.83668274106708, 40.59494669701581], [-7...</td>\n",
       "    </tr>\n",
       "    <tr>\n",
       "      <th>...</th>\n",
       "      <td>...</td>\n",
       "      <td>...</td>\n",
       "      <td>...</td>\n",
       "      <td>...</td>\n",
       "      <td>...</td>\n",
       "    </tr>\n",
       "    <tr>\n",
       "      <th>99</th>\n",
       "      <td>2</td>\n",
       "      <td>Bronx</td>\n",
       "      <td>http://nyc.pediacities.com/Resource/Borough/Bronx</td>\n",
       "      <td>Polygon</td>\n",
       "      <td>[[[-73.78103351104956, 40.87648400204773], [-7...</td>\n",
       "    </tr>\n",
       "    <tr>\n",
       "      <th>100</th>\n",
       "      <td>2</td>\n",
       "      <td>Bronx</td>\n",
       "      <td>http://nyc.pediacities.com/Resource/Borough/Bronx</td>\n",
       "      <td>Polygon</td>\n",
       "      <td>[[[-73.78650554049729, 40.8809401344792], [-73...</td>\n",
       "    </tr>\n",
       "    <tr>\n",
       "      <th>101</th>\n",
       "      <td>2</td>\n",
       "      <td>Bronx</td>\n",
       "      <td>http://nyc.pediacities.com/Resource/Borough/Bronx</td>\n",
       "      <td>Polygon</td>\n",
       "      <td>[[[-73.87294860352858, 40.90444102266826], [-7...</td>\n",
       "    </tr>\n",
       "    <tr>\n",
       "      <th>102</th>\n",
       "      <td>2</td>\n",
       "      <td>Bronx</td>\n",
       "      <td>http://nyc.pediacities.com/Resource/Borough/Bronx</td>\n",
       "      <td>Polygon</td>\n",
       "      <td>[[[-73.80518266940541, 40.815271916427264], [-...</td>\n",
       "    </tr>\n",
       "    <tr>\n",
       "      <th>103</th>\n",
       "      <td>2</td>\n",
       "      <td>Bronx</td>\n",
       "      <td>http://nyc.pediacities.com/Resource/Borough/Bronx</td>\n",
       "      <td>Polygon</td>\n",
       "      <td>[[[-73.80407598325925, 40.81349119798844], [-7...</td>\n",
       "    </tr>\n",
       "  </tbody>\n",
       "</table>\n",
       "<p>104 rows × 5 columns</p>\n",
       "</div>"
      ],
      "text/plain": [
       "     boroughCode        borough  \\\n",
       "0              5  Staten Island   \n",
       "1              5  Staten Island   \n",
       "2              5  Staten Island   \n",
       "3              5  Staten Island   \n",
       "4              4         Queens   \n",
       "..           ...            ...   \n",
       "99             2          Bronx   \n",
       "100            2          Bronx   \n",
       "101            2          Bronx   \n",
       "102            2          Bronx   \n",
       "103            2          Bronx   \n",
       "\n",
       "                                                   @id     type  \\\n",
       "0    http://nyc.pediacities.com/Resource/Borough/St...  Polygon   \n",
       "1    http://nyc.pediacities.com/Resource/Borough/St...  Polygon   \n",
       "2    http://nyc.pediacities.com/Resource/Borough/St...  Polygon   \n",
       "3    http://nyc.pediacities.com/Resource/Borough/St...  Polygon   \n",
       "4    http://nyc.pediacities.com/Resource/Borough/Qu...  Polygon   \n",
       "..                                                 ...      ...   \n",
       "99   http://nyc.pediacities.com/Resource/Borough/Bronx  Polygon   \n",
       "100  http://nyc.pediacities.com/Resource/Borough/Bronx  Polygon   \n",
       "101  http://nyc.pediacities.com/Resource/Borough/Bronx  Polygon   \n",
       "102  http://nyc.pediacities.com/Resource/Borough/Bronx  Polygon   \n",
       "103  http://nyc.pediacities.com/Resource/Borough/Bronx  Polygon   \n",
       "\n",
       "                                           coordinates  \n",
       "0    [[[-74.05050806403247, 40.566422034160816], [-...  \n",
       "1    [[[-74.05314036821109, 40.577702715545755], [-...  \n",
       "2    [[[-74.15945602438188, 40.641448333324036], [-...  \n",
       "3    [[[-74.08221272914938, 40.64828016229008], [-7...  \n",
       "4    [[[-73.83668274106708, 40.59494669701581], [-7...  \n",
       "..                                                 ...  \n",
       "99   [[[-73.78103351104956, 40.87648400204773], [-7...  \n",
       "100  [[[-73.78650554049729, 40.8809401344792], [-73...  \n",
       "101  [[[-73.87294860352858, 40.90444102266826], [-7...  \n",
       "102  [[[-73.80518266940541, 40.815271916427264], [-...  \n",
       "103  [[[-73.80407598325925, 40.81349119798844], [-7...  \n",
       "\n",
       "[104 rows x 5 columns]"
      ]
     },
     "execution_count": 80,
     "metadata": {},
     "output_type": "execute_result"
    }
   ],
   "source": [
    "borough_df"
   ]
  },
  {
   "cell_type": "code",
   "execution_count": 81,
   "metadata": {},
   "outputs": [],
   "source": [
    "borough_df['area'] = 0"
   ]
  },
  {
   "cell_type": "code",
   "execution_count": 91,
   "metadata": {},
   "outputs": [
    {
     "data": {
      "text/html": [
       "<div>\n",
       "<style scoped>\n",
       "    .dataframe tbody tr th:only-of-type {\n",
       "        vertical-align: middle;\n",
       "    }\n",
       "\n",
       "    .dataframe tbody tr th {\n",
       "        vertical-align: top;\n",
       "    }\n",
       "\n",
       "    .dataframe thead th {\n",
       "        text-align: right;\n",
       "    }\n",
       "</style>\n",
       "<table border=\"1\" class=\"dataframe\">\n",
       "  <thead>\n",
       "    <tr style=\"text-align: right;\">\n",
       "      <th></th>\n",
       "      <th>boroughCode</th>\n",
       "      <th>borough</th>\n",
       "      <th>@id</th>\n",
       "      <th>type</th>\n",
       "      <th>coordinates</th>\n",
       "      <th>area</th>\n",
       "    </tr>\n",
       "  </thead>\n",
       "  <tbody>\n",
       "    <tr>\n",
       "      <th>23</th>\n",
       "      <td>4</td>\n",
       "      <td>Queens</td>\n",
       "      <td>http://nyc.pediacities.com/Resource/Borough/Qu...</td>\n",
       "      <td>Polygon</td>\n",
       "      <td>[[[-73.89145055584646, 40.776372179016676], [-...</td>\n",
       "      <td>2.719387e-02</td>\n",
       "    </tr>\n",
       "    <tr>\n",
       "      <th>41</th>\n",
       "      <td>3</td>\n",
       "      <td>Brooklyn</td>\n",
       "      <td>http://nyc.pediacities.com/Resource/Borough/Br...</td>\n",
       "      <td>Polygon</td>\n",
       "      <td>[[[-73.95439555417089, 40.739114772522505], [-...</td>\n",
       "      <td>1.870559e-02</td>\n",
       "    </tr>\n",
       "    <tr>\n",
       "      <th>3</th>\n",
       "      <td>5</td>\n",
       "      <td>Staten Island</td>\n",
       "      <td>http://nyc.pediacities.com/Resource/Borough/St...</td>\n",
       "      <td>Polygon</td>\n",
       "      <td>[[[-74.08221272914938, 40.64828016229008], [-7...</td>\n",
       "      <td>1.603548e-02</td>\n",
       "    </tr>\n",
       "    <tr>\n",
       "      <th>101</th>\n",
       "      <td>2</td>\n",
       "      <td>Bronx</td>\n",
       "      <td>http://nyc.pediacities.com/Resource/Borough/Bronx</td>\n",
       "      <td>Polygon</td>\n",
       "      <td>[[[-73.87294860352858, 40.90444102266826], [-7...</td>\n",
       "      <td>1.140587e-02</td>\n",
       "    </tr>\n",
       "    <tr>\n",
       "      <th>72</th>\n",
       "      <td>1</td>\n",
       "      <td>Manhattan</td>\n",
       "      <td>http://nyc.pediacities.com/Resource/Borough/Ma...</td>\n",
       "      <td>Polygon</td>\n",
       "      <td>[[[-73.92640556921117, 40.87762147653734], [-7...</td>\n",
       "      <td>5.859078e-03</td>\n",
       "    </tr>\n",
       "    <tr>\n",
       "      <th>...</th>\n",
       "      <td>...</td>\n",
       "      <td>...</td>\n",
       "      <td>...</td>\n",
       "      <td>...</td>\n",
       "      <td>...</td>\n",
       "      <td>...</td>\n",
       "    </tr>\n",
       "    <tr>\n",
       "      <th>60</th>\n",
       "      <td>1</td>\n",
       "      <td>Manhattan</td>\n",
       "      <td>http://nyc.pediacities.com/Resource/Borough/Ma...</td>\n",
       "      <td>Polygon</td>\n",
       "      <td>[[[-73.99476934191568, 40.70395289495355], [-7...</td>\n",
       "      <td>1.540025e-08</td>\n",
       "    </tr>\n",
       "    <tr>\n",
       "      <th>83</th>\n",
       "      <td>2</td>\n",
       "      <td>Bronx</td>\n",
       "      <td>http://nyc.pediacities.com/Resource/Borough/Bronx</td>\n",
       "      <td>Polygon</td>\n",
       "      <td>[[[-73.78245880016405, 40.84397215208452], [-7...</td>\n",
       "      <td>9.327276e-09</td>\n",
       "    </tr>\n",
       "    <tr>\n",
       "      <th>13</th>\n",
       "      <td>4</td>\n",
       "      <td>Queens</td>\n",
       "      <td>http://nyc.pediacities.com/Resource/Borough/Qu...</td>\n",
       "      <td>Polygon</td>\n",
       "      <td>[[[-73.73944380843434, 40.59702754555849], [-7...</td>\n",
       "      <td>8.313199e-09</td>\n",
       "    </tr>\n",
       "    <tr>\n",
       "      <th>84</th>\n",
       "      <td>2</td>\n",
       "      <td>Bronx</td>\n",
       "      <td>http://nyc.pediacities.com/Resource/Borough/Bronx</td>\n",
       "      <td>Polygon</td>\n",
       "      <td>[[[-73.78203383698589, 40.844093822799046], [-...</td>\n",
       "      <td>8.237252e-09</td>\n",
       "    </tr>\n",
       "    <tr>\n",
       "      <th>103</th>\n",
       "      <td>2</td>\n",
       "      <td>Bronx</td>\n",
       "      <td>http://nyc.pediacities.com/Resource/Borough/Bronx</td>\n",
       "      <td>Polygon</td>\n",
       "      <td>[[[-73.80407598325925, 40.81349119798844], [-7...</td>\n",
       "      <td>5.094443e-09</td>\n",
       "    </tr>\n",
       "  </tbody>\n",
       "</table>\n",
       "<p>104 rows × 6 columns</p>\n",
       "</div>"
      ],
      "text/plain": [
       "     boroughCode        borough  \\\n",
       "23             4         Queens   \n",
       "41             3       Brooklyn   \n",
       "3              5  Staten Island   \n",
       "101            2          Bronx   \n",
       "72             1      Manhattan   \n",
       "..           ...            ...   \n",
       "60             1      Manhattan   \n",
       "83             2          Bronx   \n",
       "13             4         Queens   \n",
       "84             2          Bronx   \n",
       "103            2          Bronx   \n",
       "\n",
       "                                                   @id     type  \\\n",
       "23   http://nyc.pediacities.com/Resource/Borough/Qu...  Polygon   \n",
       "41   http://nyc.pediacities.com/Resource/Borough/Br...  Polygon   \n",
       "3    http://nyc.pediacities.com/Resource/Borough/St...  Polygon   \n",
       "101  http://nyc.pediacities.com/Resource/Borough/Bronx  Polygon   \n",
       "72   http://nyc.pediacities.com/Resource/Borough/Ma...  Polygon   \n",
       "..                                                 ...      ...   \n",
       "60   http://nyc.pediacities.com/Resource/Borough/Ma...  Polygon   \n",
       "83   http://nyc.pediacities.com/Resource/Borough/Bronx  Polygon   \n",
       "13   http://nyc.pediacities.com/Resource/Borough/Qu...  Polygon   \n",
       "84   http://nyc.pediacities.com/Resource/Borough/Bronx  Polygon   \n",
       "103  http://nyc.pediacities.com/Resource/Borough/Bronx  Polygon   \n",
       "\n",
       "                                           coordinates          area  \n",
       "23   [[[-73.89145055584646, 40.776372179016676], [-...  2.719387e-02  \n",
       "41   [[[-73.95439555417089, 40.739114772522505], [-...  1.870559e-02  \n",
       "3    [[[-74.08221272914938, 40.64828016229008], [-7...  1.603548e-02  \n",
       "101  [[[-73.87294860352858, 40.90444102266826], [-7...  1.140587e-02  \n",
       "72   [[[-73.92640556921117, 40.87762147653734], [-7...  5.859078e-03  \n",
       "..                                                 ...           ...  \n",
       "60   [[[-73.99476934191568, 40.70395289495355], [-7...  1.540025e-08  \n",
       "83   [[[-73.78245880016405, 40.84397215208452], [-7...  9.327276e-09  \n",
       "13   [[[-73.73944380843434, 40.59702754555849], [-7...  8.313199e-09  \n",
       "84   [[[-73.78203383698589, 40.844093822799046], [-...  8.237252e-09  \n",
       "103  [[[-73.80407598325925, 40.81349119798844], [-7...  5.094443e-09  \n",
       "\n",
       "[104 rows x 6 columns]"
      ]
     },
     "execution_count": 91,
     "metadata": {},
     "output_type": "execute_result"
    }
   ],
   "source": [
    "from shapely import Polygon\n",
    "for index, row in borough_df.iterrows():\n",
    "    polygon = Polygon(list(row['coordinates'][0]))\n",
    "    area = polygon.area\n",
    "    borough_df.at[index, 'area'] = area\n",
    "\n",
    "borough_df.sort_values(by=['area'], ascending = False)"
   ]
  },
  {
   "cell_type": "code",
   "execution_count": 92,
   "metadata": {},
   "outputs": [],
   "source": [
    "def findingBorough (x_coordinate, y_coordinate):\n",
    "    for index, row in borough_df.iterrows():\n",
    "        polygon = Polygon(list(row['coordinates'][0]))\n",
    "        geoms = np.array([Point(x_coordinate, y_coordinate)])\n",
    "        if shapely.contains(polygon, geoms)[0] == True:\n",
    "            return properties_df.iloc[i]['borough']\n",
    "        else:\n",
    "            continue\n",
    "        "
   ]
  },
  {
   "cell_type": "code",
   "execution_count": 93,
   "metadata": {},
   "outputs": [
    {
     "data": {
      "text/html": [
       "<table border='1'>\n",
       "<tr><th>medallion</th><th>hack_license</th><th>vendor_id</th><th>rate_code</th><th>store_and_fwd_flag</th><th>pickup_datetime</th><th>dropoff_datetime</th><th>passenger_count</th><th>trip_time_in_secs</th><th>trip_distance</th><th>pickup_longitude</th><th>pickup_latitude</th><th>dropoff_longitude</th><th>dropoff_latitude</th><th>startBorough</th><th>endBorough</th></tr>\n",
       "<tr><td>89D227B655E5C82AECF13C3F540D4CF4</td><td>BA96DE419E711691B9445D6A6307C170</td><td>CMT</td><td>1</td><td>N</td><td>2013-01-01 15:11:48</td><td>2013-01-01 15:18:10</td><td>4</td><td>382</td><td>1.0</td><td>-73.978165</td><td>40.757977</td><td>-73.989838</td><td>40.751171</td><td>NULL</td><td>NULL</td></tr>\n",
       "<tr><td>0BD7C8F5BA12B88E0B67BED28BEA73D8</td><td>9FD8F69F0804BDB5549F40E9DA1BE472</td><td>CMT</td><td>1</td><td>N</td><td>2013-01-06 00:18:35</td><td>2013-01-06 00:22:54</td><td>1</td><td>259</td><td>1.5</td><td>-74.006683</td><td>40.731781</td><td>-73.994499</td><td>40.75066</td><td>NULL</td><td>NULL</td></tr>\n",
       "<tr><td>0BD7C8F5BA12B88E0B67BED28BEA73D8</td><td>9FD8F69F0804BDB5549F40E9DA1BE472</td><td>CMT</td><td>1</td><td>N</td><td>2013-01-05 18:49:41</td><td>2013-01-05 18:54:23</td><td>1</td><td>282</td><td>1.1</td><td>-74.004707</td><td>40.73777</td><td>-74.009834</td><td>40.726002</td><td>NULL</td><td>NULL</td></tr>\n",
       "<tr><td>DFD2202EE08F7A8DC9A57B02ACB81FE2</td><td>51EE87E3205C985EF8431D850C786310</td><td>CMT</td><td>1</td><td>N</td><td>2013-01-07 23:54:15</td><td>2013-01-07 23:58:20</td><td>2</td><td>244</td><td>0.7</td><td>-73.974602</td><td>40.759945</td><td>-73.984734</td><td>40.759388</td><td>NULL</td><td>NULL</td></tr>\n",
       "<tr><td>DFD2202EE08F7A8DC9A57B02ACB81FE2</td><td>51EE87E3205C985EF8431D850C786310</td><td>CMT</td><td>1</td><td>N</td><td>2013-01-07 23:25:03</td><td>2013-01-07 23:34:24</td><td>1</td><td>560</td><td>2.1</td><td>-73.97625</td><td>40.748528</td><td>-74.002586</td><td>40.747868</td><td>NULL</td><td>NULL</td></tr>\n",
       "<tr><td>20D9ECB2CA0767CF7A01564DF2844A3E</td><td>598CCE5B9C1918568DEE71F43CF26CD2</td><td>CMT</td><td>1</td><td>N</td><td>2013-01-07 15:27:48</td><td>2013-01-07 15:38:37</td><td>1</td><td>648</td><td>1.7</td><td>-73.966743</td><td>40.764252</td><td>-73.983322</td><td>40.743763</td><td>NULL</td><td>NULL</td></tr>\n",
       "<tr><td>496644932DF3932605C22C7926FF0FE0</td><td>513189AD756FF14FE670D10B92FAF04C</td><td>CMT</td><td>1</td><td>N</td><td>2013-01-08 11:01:15</td><td>2013-01-08 11:08:14</td><td>1</td><td>418</td><td>0.8</td><td>-73.995804</td><td>40.743977</td><td>-74.007416</td><td>40.744343</td><td>NULL</td><td>NULL</td></tr>\n",
       "<tr><td>0B57B9633A2FECD3D3B1944AFC7471CF</td><td>CCD4367B417ED6634D986F573A552A62</td><td>CMT</td><td>1</td><td>N</td><td>2013-01-07 12:39:18</td><td>2013-01-07 13:10:56</td><td>3</td><td>1898</td><td>10.7</td><td>-73.989937</td><td>40.756775</td><td>-73.86525</td><td>40.77063</td><td>NULL</td><td>NULL</td></tr>\n",
       "<tr><td>2C0E91FF20A856C891483ED63589F982</td><td>1DA2F6543A62B8ED934771661A9D2FA0</td><td>CMT</td><td>1</td><td>N</td><td>2013-01-07 18:15:47</td><td>2013-01-07 18:20:47</td><td>1</td><td>299</td><td>0.8</td><td>-73.980072</td><td>40.743137</td><td>-73.982712</td><td>40.735336</td><td>NULL</td><td>NULL</td></tr>\n",
       "<tr><td>2D4B95E2FA7B2E85118EC5CA4570FA58</td><td>CD2F522EEE1FF5F5A8D8B679E23576B3</td><td>CMT</td><td>1</td><td>N</td><td>2013-01-07 15:33:28</td><td>2013-01-07 15:49:26</td><td>2</td><td>957</td><td>2.5</td><td>-73.977936</td><td>40.786983</td><td>-73.952919</td><td>40.80637</td><td>NULL</td><td>NULL</td></tr>\n",
       "<tr><td>E12F6AF991172EAC3553144A0AF75A19</td><td>06918214E951FA0003D1CC54955C2AB0</td><td>CMT</td><td>1</td><td>N</td><td>2013-01-08 13:11:52</td><td>2013-01-08 13:19:50</td><td>1</td><td>477</td><td>1.3</td><td>-73.982452</td><td>40.773167</td><td>-73.964134</td><td>40.773815</td><td>NULL</td><td>NULL</td></tr>\n",
       "<tr><td>E12F6AF991172EAC3553144A0AF75A19</td><td>06918214E951FA0003D1CC54955C2AB0</td><td>CMT</td><td>1</td><td>N</td><td>2013-01-08 09:50:05</td><td>2013-01-08 10:02:54</td><td>1</td><td>768</td><td>0.7</td><td>-73.99556</td><td>40.749294</td><td>-73.988686</td><td>40.759052</td><td>NULL</td><td>NULL</td></tr>\n",
       "<tr><td>78FFD9CD0CDA541F335EF8B38FB494D6</td><td>E949C583ECF62C8F03FDCE1484954A08</td><td>CMT</td><td>1</td><td>N</td><td>2013-01-10 12:07:08</td><td>2013-01-10 12:17:29</td><td>1</td><td>620</td><td>2.3</td><td>-73.971497</td><td>40.791321</td><td>-73.964478</td><td>40.775921</td><td>NULL</td><td>NULL</td></tr>\n",
       "<tr><td>237F49C3ECC11F5024B254268F054384</td><td>93C363DDF8ED9385D65FAD07CE3F5F07</td><td>CMT</td><td>1</td><td>N</td><td>2013-01-07 07:35:47</td><td>2013-01-07 07:46:00</td><td>1</td><td>612</td><td>2.3</td><td>-73.98851</td><td>40.774307</td><td>-73.981094</td><td>40.755325</td><td>NULL</td><td>NULL</td></tr>\n",
       "<tr><td>3349F919AA8AE5DC9C50A3773EA45BD8</td><td>7CE849FEF67514F080AF80D990F7EF7F</td><td>CMT</td><td>1</td><td>N</td><td>2013-01-10 15:42:29</td><td>2013-01-10 16:04:02</td><td>1</td><td>1293</td><td>3.2</td><td>-73.994911</td><td>40.723221</td><td>-73.971558</td><td>40.761612</td><td>NULL</td><td>NULL</td></tr>\n",
       "<tr><td>3349F919AA8AE5DC9C50A3773EA45BD8</td><td>7CE849FEF67514F080AF80D990F7EF7F</td><td>CMT</td><td>1</td><td>N</td><td>2013-01-10 14:27:28</td><td>2013-01-10 14:45:21</td><td>1</td><td>1073</td><td>4.4</td><td>-74.010391</td><td>40.708702</td><td>-73.987846</td><td>40.756104</td><td>NULL</td><td>NULL</td></tr>\n",
       "<tr><td>4C005EEBAA7BF26B84B21586332488A2</td><td>351BE7D984BE17DB2FA80A748E816472</td><td>CMT</td><td>1</td><td>N</td><td>2013-01-07 22:09:59</td><td>2013-01-07 22:19:50</td><td>1</td><td>591</td><td>1.7</td><td>-73.973732</td><td>40.756287</td><td>-73.998413</td><td>40.756832</td><td>NULL</td><td>NULL</td></tr>\n",
       "<tr><td>7D99C30FCE69B1A9DD27E2AEAC9BFA0C</td><td>460C3F57DD9CB2265DB75B14CD70224D</td><td>CMT</td><td>1</td><td>N</td><td>2013-01-07 17:18:16</td><td>2013-01-07 17:20:55</td><td>1</td><td>158</td><td>0.7</td><td>-73.968925</td><td>40.767704</td><td>-73.96199</td><td>40.776566</td><td>NULL</td><td>NULL</td></tr>\n",
       "<tr><td>E6FBF80668FE0611AEA44FD9574A7E32</td><td>36773E80775F26CD1158EB5450A61C79</td><td>CMT</td><td>1</td><td>N</td><td>2013-01-07 06:08:51</td><td>2013-01-07 06:13:14</td><td>1</td><td>262</td><td>1.7</td><td>-73.96212</td><td>40.769737</td><td>-73.979561</td><td>40.75539</td><td>NULL</td><td>NULL</td></tr>\n",
       "<tr><td>0C5296F3C8B16E702F8F2E06F5106552</td><td>D2363240A9295EF570FC6069BC4F4C92</td><td>CMT</td><td>1</td><td>N</td><td>2013-01-07 22:25:46</td><td>2013-01-07 22:36:56</td><td>1</td><td>669</td><td>2.3</td><td>-73.989708</td><td>40.756714</td><td>-73.977615</td><td>40.787575</td><td>NULL</td><td>NULL</td></tr>\n",
       "</table>\n",
       "only showing top 20 rows\n"
      ],
      "text/plain": [
       "+--------------------------------+--------------------------------+---------+---------+------------------+-------------------+-------------------+---------------+-----------------+-------------+----------------+---------------+-----------------+----------------+------------+----------+\n",
       "|                       medallion|                    hack_license|vendor_id|rate_code|store_and_fwd_flag|    pickup_datetime|   dropoff_datetime|passenger_count|trip_time_in_secs|trip_distance|pickup_longitude|pickup_latitude|dropoff_longitude|dropoff_latitude|startBorough|endBorough|\n",
       "+--------------------------------+--------------------------------+---------+---------+------------------+-------------------+-------------------+---------------+-----------------+-------------+----------------+---------------+-----------------+----------------+------------+----------+\n",
       "|89D227B655E5C82AECF13C3F540D4CF4|BA96DE419E711691B9445D6A6307C170|      CMT|        1|                 N|2013-01-01 15:11:48|2013-01-01 15:18:10|              4|              382|          1.0|      -73.978165|      40.757977|       -73.989838|       40.751171|        NULL|      NULL|\n",
       "|0BD7C8F5BA12B88E0B67BED28BEA73D8|9FD8F69F0804BDB5549F40E9DA1BE472|      CMT|        1|                 N|2013-01-06 00:18:35|2013-01-06 00:22:54|              1|              259|          1.5|      -74.006683|      40.731781|       -73.994499|        40.75066|        NULL|      NULL|\n",
       "|0BD7C8F5BA12B88E0B67BED28BEA73D8|9FD8F69F0804BDB5549F40E9DA1BE472|      CMT|        1|                 N|2013-01-05 18:49:41|2013-01-05 18:54:23|              1|              282|          1.1|      -74.004707|       40.73777|       -74.009834|       40.726002|        NULL|      NULL|\n",
       "|DFD2202EE08F7A8DC9A57B02ACB81FE2|51EE87E3205C985EF8431D850C786310|      CMT|        1|                 N|2013-01-07 23:54:15|2013-01-07 23:58:20|              2|              244|          0.7|      -73.974602|      40.759945|       -73.984734|       40.759388|        NULL|      NULL|\n",
       "|DFD2202EE08F7A8DC9A57B02ACB81FE2|51EE87E3205C985EF8431D850C786310|      CMT|        1|                 N|2013-01-07 23:25:03|2013-01-07 23:34:24|              1|              560|          2.1|       -73.97625|      40.748528|       -74.002586|       40.747868|        NULL|      NULL|\n",
       "|20D9ECB2CA0767CF7A01564DF2844A3E|598CCE5B9C1918568DEE71F43CF26CD2|      CMT|        1|                 N|2013-01-07 15:27:48|2013-01-07 15:38:37|              1|              648|          1.7|      -73.966743|      40.764252|       -73.983322|       40.743763|        NULL|      NULL|\n",
       "|496644932DF3932605C22C7926FF0FE0|513189AD756FF14FE670D10B92FAF04C|      CMT|        1|                 N|2013-01-08 11:01:15|2013-01-08 11:08:14|              1|              418|          0.8|      -73.995804|      40.743977|       -74.007416|       40.744343|        NULL|      NULL|\n",
       "|0B57B9633A2FECD3D3B1944AFC7471CF|CCD4367B417ED6634D986F573A552A62|      CMT|        1|                 N|2013-01-07 12:39:18|2013-01-07 13:10:56|              3|             1898|         10.7|      -73.989937|      40.756775|        -73.86525|        40.77063|        NULL|      NULL|\n",
       "|2C0E91FF20A856C891483ED63589F982|1DA2F6543A62B8ED934771661A9D2FA0|      CMT|        1|                 N|2013-01-07 18:15:47|2013-01-07 18:20:47|              1|              299|          0.8|      -73.980072|      40.743137|       -73.982712|       40.735336|        NULL|      NULL|\n",
       "|2D4B95E2FA7B2E85118EC5CA4570FA58|CD2F522EEE1FF5F5A8D8B679E23576B3|      CMT|        1|                 N|2013-01-07 15:33:28|2013-01-07 15:49:26|              2|              957|          2.5|      -73.977936|      40.786983|       -73.952919|        40.80637|        NULL|      NULL|\n",
       "|E12F6AF991172EAC3553144A0AF75A19|06918214E951FA0003D1CC54955C2AB0|      CMT|        1|                 N|2013-01-08 13:11:52|2013-01-08 13:19:50|              1|              477|          1.3|      -73.982452|      40.773167|       -73.964134|       40.773815|        NULL|      NULL|\n",
       "|E12F6AF991172EAC3553144A0AF75A19|06918214E951FA0003D1CC54955C2AB0|      CMT|        1|                 N|2013-01-08 09:50:05|2013-01-08 10:02:54|              1|              768|          0.7|       -73.99556|      40.749294|       -73.988686|       40.759052|        NULL|      NULL|\n",
       "|78FFD9CD0CDA541F335EF8B38FB494D6|E949C583ECF62C8F03FDCE1484954A08|      CMT|        1|                 N|2013-01-10 12:07:08|2013-01-10 12:17:29|              1|              620|          2.3|      -73.971497|      40.791321|       -73.964478|       40.775921|        NULL|      NULL|\n",
       "|237F49C3ECC11F5024B254268F054384|93C363DDF8ED9385D65FAD07CE3F5F07|      CMT|        1|                 N|2013-01-07 07:35:47|2013-01-07 07:46:00|              1|              612|          2.3|       -73.98851|      40.774307|       -73.981094|       40.755325|        NULL|      NULL|\n",
       "|3349F919AA8AE5DC9C50A3773EA45BD8|7CE849FEF67514F080AF80D990F7EF7F|      CMT|        1|                 N|2013-01-10 15:42:29|2013-01-10 16:04:02|              1|             1293|          3.2|      -73.994911|      40.723221|       -73.971558|       40.761612|        NULL|      NULL|\n",
       "|3349F919AA8AE5DC9C50A3773EA45BD8|7CE849FEF67514F080AF80D990F7EF7F|      CMT|        1|                 N|2013-01-10 14:27:28|2013-01-10 14:45:21|              1|             1073|          4.4|      -74.010391|      40.708702|       -73.987846|       40.756104|        NULL|      NULL|\n",
       "|4C005EEBAA7BF26B84B21586332488A2|351BE7D984BE17DB2FA80A748E816472|      CMT|        1|                 N|2013-01-07 22:09:59|2013-01-07 22:19:50|              1|              591|          1.7|      -73.973732|      40.756287|       -73.998413|       40.756832|        NULL|      NULL|\n",
       "|7D99C30FCE69B1A9DD27E2AEAC9BFA0C|460C3F57DD9CB2265DB75B14CD70224D|      CMT|        1|                 N|2013-01-07 17:18:16|2013-01-07 17:20:55|              1|              158|          0.7|      -73.968925|      40.767704|        -73.96199|       40.776566|        NULL|      NULL|\n",
       "|E6FBF80668FE0611AEA44FD9574A7E32|36773E80775F26CD1158EB5450A61C79|      CMT|        1|                 N|2013-01-07 06:08:51|2013-01-07 06:13:14|              1|              262|          1.7|       -73.96212|      40.769737|       -73.979561|        40.75539|        NULL|      NULL|\n",
       "|0C5296F3C8B16E702F8F2E06F5106552|D2363240A9295EF570FC6069BC4F4C92|      CMT|        1|                 N|2013-01-07 22:25:46|2013-01-07 22:36:56|              1|              669|          2.3|      -73.989708|      40.756714|       -73.977615|       40.787575|        NULL|      NULL|\n",
       "+--------------------------------+--------------------------------+---------+---------+------------------+-------------------+-------------------+---------------+-----------------+-------------+----------------+---------------+-----------------+----------------+------------+----------+\n",
       "only showing top 20 rows"
      ]
     },
     "metadata": {},
     "output_type": "display_data"
    }
   ],
   "source": [
    "from pyspark.sql.functions import col\n",
    "from pyspark.sql.functions import lit\n",
    "taxiDataDf = taxiDataDf.withColumn(\"startBorough\", lit(None))\n",
    "taxiDataDf = taxiDataDf.withColumn(\"endBorough\",  lit(None))\n",
    "display(taxiDataDf)"
   ]
  },
  {
   "cell_type": "markdown",
   "metadata": {},
   "source": [
    "## Query 1: Utilization"
   ]
  },
  {
   "cell_type": "markdown",
   "metadata": {},
   "source": [
    "Utilization: This is per taxi/driver. This can be computed by computing the idle \n",
    "time per taxi. We will elaborate on that more later"
   ]
  },
  {
   "cell_type": "code",
   "execution_count": 15,
   "metadata": {},
   "outputs": [],
   "source": [
    "# ?"
   ]
  },
  {
   "cell_type": "markdown",
   "metadata": {},
   "source": [
    "## Query 2: Average next trip time"
   ]
  },
  {
   "cell_type": "markdown",
   "metadata": {},
   "source": [
    "The average time it takes for a taxi to find its next fare(trip) per destination borough. This can be computed by finding the time difference, e.g. in seconds, between the trip's drop off and the next trip's pick up.\n"
   ]
  },
  {
   "cell_type": "code",
   "execution_count": 16,
   "metadata": {},
   "outputs": [],
   "source": [
    "# ?"
   ]
  },
  {
   "cell_type": "markdown",
   "metadata": {},
   "source": [
    "## Query 3: Trips started in one borough"
   ]
  },
  {
   "cell_type": "markdown",
   "metadata": {},
   "source": [
    "The number of trips that started and ended within the same borough,\r"
   ]
  },
  {
   "cell_type": "code",
   "execution_count": 17,
   "metadata": {},
   "outputs": [],
   "source": [
    "# ?"
   ]
  },
  {
   "cell_type": "markdown",
   "metadata": {},
   "source": [
    "## Query 4: Trips between different boroughs"
   ]
  },
  {
   "cell_type": "markdown",
   "metadata": {},
   "source": [
    "The number of trips that started in one borough and ended in another one"
   ]
  },
  {
   "cell_type": "code",
   "execution_count": 18,
   "metadata": {},
   "outputs": [],
   "source": [
    "# ?"
   ]
  },
  {
   "cell_type": "code",
   "execution_count": null,
   "metadata": {},
   "outputs": [],
   "source": []
  }
 ],
 "metadata": {
  "kernelspec": {
   "display_name": "Python 3 (ipykernel)",
   "language": "python",
   "name": "python3"
  },
  "language_info": {
   "codemirror_mode": {
    "name": "ipython",
    "version": 3
   },
   "file_extension": ".py",
   "mimetype": "text/x-python",
   "name": "python",
   "nbconvert_exporter": "python",
   "pygments_lexer": "ipython3",
   "version": "3.11.7"
  }
 },
 "nbformat": 4,
 "nbformat_minor": 4
}
