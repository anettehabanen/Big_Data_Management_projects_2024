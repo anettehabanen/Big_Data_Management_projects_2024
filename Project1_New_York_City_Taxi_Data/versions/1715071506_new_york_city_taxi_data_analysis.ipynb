{
 "cells": [
  {
   "cell_type": "code",
   "execution_count": 133,
   "metadata": {},
   "outputs": [],
   "source": [
    "# This is the project code."
   ]
  },
  {
   "cell_type": "code",
   "execution_count": 134,
   "metadata": {},
   "outputs": [],
   "source": [
    "import pyspark\n",
    "from delta import *\n",
    "\n",
    "builder = pyspark.sql.SparkSession.builder.appName(\"Project1\") \\\n",
    "    .config(\"spark.sql.extensions\", \"io.delta.sql.DeltaSparkSessionExtension\") \\\n",
    "    .config(\"spark.sql.catalog.spark_catalog\", \"org.apache.spark.sql.delta.catalog.DeltaCatalog\") \n",
    "\n",
    "spark = configure_spark_with_delta_pip(builder).getOrCreate()\n",
    "spark.sparkContext.setCheckpointDir(\"checkpoints/test/\")\n",
    "\n",
    "#spark.conf.set(\"spark.sql.repl.eagerEval.enabled\",True) # OK for exploration, not great for performance\n",
    "#spark.conf.set(\"spark.sql.repl.eagerEval.truncate\", 500)"
   ]
  },
  {
   "cell_type": "code",
   "execution_count": 135,
   "metadata": {},
   "outputs": [],
   "source": [
    "import pandas as pd\n",
    "import json\n",
    "import numpy as np\n",
    "import shapely\n",
    "from shapely import Point\n",
    "from shapely.geometry import mapping, shape\n",
    "import pyspark.sql.functions as F\n",
    "from pyspark.sql import Window\n",
    "from shapely import Polygon\n",
    "from pyspark.sql.functions import col, count, when\n",
    "from pyspark.sql.types import DoubleType, IntegerType, StringType, StructField, StructType, TimestampType\n",
    "from shapely.strtree import STRtree\n",
    "import matplotlib.pyplot as plt"
   ]
  },
  {
   "cell_type": "markdown",
   "metadata": {},
   "source": [
    "## Reading in data"
   ]
  },
  {
   "cell_type": "code",
   "execution_count": 136,
   "metadata": {},
   "outputs": [],
   "source": [
    "dataSchema = StructType([\n",
    "    StructField(\"medallion\",StringType(),True),\n",
    "    StructField(\"hack_license\",StringType(),True),\n",
    "    StructField(\"vendor_id\",StringType(),True),\n",
    "    StructField(\"rate_code\",IntegerType(),True),\n",
    "    StructField(\"store_and_fwd_flag\",StringType(),True),\n",
    "    StructField(\"pickup_datetime\",TimestampType(),True),\n",
    "    StructField(\"dropoff_datetime\",TimestampType(),True),\n",
    "    StructField(\"passenger_count\",IntegerType(),True),\n",
    "    StructField(\"trip_time_in_secs\",IntegerType(),True),\n",
    "    StructField(\"trip_distance\",DoubleType(),True),\n",
    "    StructField(\"pickup_longitude\",DoubleType(),True),\n",
    "    StructField(\"pickup_latitude\",DoubleType(),True),\n",
    "    StructField(\"dropoff_longitude\",DoubleType(),True),\n",
    "    StructField(\"dropoff_latitude\",DoubleType(),True),\n",
    "])    \n",
    "\n",
    "# Reading in taxi dataset\n",
    "taxiDataDf = (spark.read\n",
    "             .option(\"sep\", \",\") # separator\n",
    "             .option(\"header\", True) # file has header row\n",
    "             .schema(dataSchema)\n",
    "             #.option(\"inferSchema\", True) # spark tries to infer data types\n",
    "             .csv(\"sample.csv\") #path\n",
    "            ) \\\n",
    "            .dropna(subset=[\"pickup_datetime\",\"dropoff_datetime\",\"pickup_longitude\",\"pickup_latitude\",\"dropoff_longitude\",\"dropoff_latitude\"]) \\\n",
    "            .drop(\"vendor_id\",\"rate_code\",\"store_and_fwd_flag\")"
   ]
  },
  {
   "cell_type": "code",
   "execution_count": 137,
   "metadata": {},
   "outputs": [],
   "source": [
    "#taxiDataDf.printSchema()"
   ]
  },
  {
   "cell_type": "code",
   "execution_count": 138,
   "metadata": {},
   "outputs": [
    {
     "data": {
      "text/plain": [
       "DataFrame[medallion: string, hack_license: string, pickup_datetime: timestamp, dropoff_datetime: timestamp, passenger_count: int, trip_time_in_secs: int, trip_distance: double, pickup_longitude: double, pickup_latitude: double, dropoff_longitude: double, dropoff_latitude: double]"
      ]
     },
     "metadata": {},
     "output_type": "display_data"
    }
   ],
   "source": [
    "display(taxiDataDf)"
   ]
  },
  {
   "cell_type": "code",
   "execution_count": 139,
   "metadata": {},
   "outputs": [],
   "source": [
    "# Reading in borough dataset\n",
    "with open('nyc-boroughs.geojson') as file:\n",
    "    boroughs = json.load(file)\n",
    "\n",
    "features = boroughs['features']\n",
    "properties = [feature['properties'] for feature in features]\n",
    "geometry = [feature['geometry'] for feature in features]\n",
    "\n",
    "rowNumberWindow = Window.orderBy(F.lit(\"a\"))\n",
    "\n",
    "properties_df = spark.createDataFrame(properties).withColumn(\"rid\",F.row_number().over(rowNumberWindow))\n",
    "geometry_df = spark.createDataFrame(geometry).withColumn(\"rid\",F.row_number().over(rowNumberWindow))\n",
    "borough_base_df = properties_df.join(geometry_df,(\"rid\")).drop(\"rid\") #rid - row_id"
   ]
  },
  {
   "cell_type": "code",
   "execution_count": 140,
   "metadata": {},
   "outputs": [
    {
     "data": {
      "text/plain": [
       "DataFrame[@id: string, borough: string, boroughCode: bigint, coordinates: array<array<array<double>>>, type: string]"
      ]
     },
     "metadata": {},
     "output_type": "display_data"
    }
   ],
   "source": [
    "display(borough_base_df)"
   ]
  },
  {
   "cell_type": "code",
   "execution_count": 141,
   "metadata": {},
   "outputs": [
    {
     "data": {
      "text/plain": [
       "DataFrame[@id: string, borough: string, boroughCode: bigint, coordinates: array<array<array<double>>>, type: string, area: double, row_id: int]"
      ]
     },
     "execution_count": 141,
     "metadata": {},
     "output_type": "execute_result"
    }
   ],
   "source": [
    "# Finding the area size of the boroughs\n",
    "def calculate_area(coordinates):\n",
    "    polygon = Polygon(list(coordinates[0]))\n",
    "    return polygon.area\n",
    "\n",
    "calculate_area_udf = F.udf(calculate_area,DoubleType())\n",
    "\n",
    "borough_df_sorted = borough_base_df.withColumn(\"area\",calculate_area_udf(F.col(\"coordinates\"))) \\\n",
    "                            .sort(F.col(\"area\").desc()) \\\n",
    "                            .withColumn(\"row_id\",F.row_number().over(rowNumberWindow) - 1)\n",
    "\n",
    "\n",
    "# https://shapely.readthedocs.io/en/stable/strtree.html\n",
    "geomtree = STRtree([Polygon(coords[\"coordinates\"][0]) for coords in borough_df_sorted.select(\"coordinates\").collect()])\n",
    "borough_df_sorted"
   ]
  },
  {
   "cell_type": "code",
   "execution_count": 142,
   "metadata": {},
   "outputs": [
    {
     "name": "stdout",
     "output_type": "stream",
     "text": [
      "+--------------------+-------------+-----------+--------------------+-------+--------------------+------+\n",
      "|                 @id|      borough|boroughCode|         coordinates|   type|                area|row_id|\n",
      "+--------------------+-------------+-----------+--------------------+-------+--------------------+------+\n",
      "|http://nyc.pediac...|       Queens|          4|[[[-73.8914505558...|Polygon| 0.02719387322630712|     0|\n",
      "|http://nyc.pediac...|     Brooklyn|          3|[[[-73.9543955541...|Polygon| 0.01870558901900347|     1|\n",
      "|http://nyc.pediac...|Staten Island|          5|[[[-74.0822127291...|Polygon| 0.01603547601912208|     2|\n",
      "|http://nyc.pediac...|        Bronx|          2|[[[-73.8729486035...|Polygon|0.011405869460254603|     3|\n",
      "|http://nyc.pediac...|    Manhattan|          1|[[[-73.9264055692...|Polygon|0.005859077996035753|     4|\n",
      "|http://nyc.pediac...|       Queens|          4|[[[-73.8049919885...|Polygon|0.002244027128579165|     5|\n",
      "|http://nyc.pediac...|       Queens|          4|[[[-73.8233759212...|Polygon|4.664525482037259E-4|     6|\n",
      "|http://nyc.pediac...|    Manhattan|          1|[[[-73.9213375241...|Polygon|2.327165585676201...|     7|\n",
      "|http://nyc.pediac...|        Bronx|          2|[[[-73.8888514849...|Polygon|1.797842720103046...|     8|\n",
      "|http://nyc.pediac...|     Brooklyn|          3|[[[-73.8473435066...|Polygon|1.209657328581568...|     9|\n",
      "|http://nyc.pediac...|        Bronx|          2|[[[-73.7918669200...|Polygon|1.195078269510064...|    10|\n",
      "|http://nyc.pediac...|     Brooklyn|          3|[[[-73.8430442129...|Polygon|9.607138763144004E-5|    11|\n",
      "|http://nyc.pediac...|     Brooklyn|          3|[[[-73.8708460319...|Polygon|9.109297705595764E-5|    12|\n",
      "|http://nyc.pediac...|       Queens|          4|[[[-73.7978353339...|Polygon|8.760574248455358E-5|    13|\n",
      "|http://nyc.pediac...|     Brooklyn|          3|[[[-73.8472183483...|Polygon| 7.87410511885683E-5|    14|\n",
      "|http://nyc.pediac...|    Manhattan|          1|[[[-74.0167475609...|Polygon|  7.6037752599342E-5|    15|\n",
      "|http://nyc.pediac...|     Brooklyn|          3|[[[-73.8670614947...|Polygon| 6.81847134487497E-5|    16|\n",
      "|http://nyc.pediac...|    Manhattan|          1|[[[-73.9418003272...|Polygon| 6.23157479510608E-5|    17|\n",
      "|http://nyc.pediac...|     Brooklyn|          3|[[[-73.8552306763...|Polygon|5.942789759454747...|    18|\n",
      "|http://nyc.pediac...|     Brooklyn|          3|[[[-73.8524333580...|Polygon| 5.56340780263587E-5|    19|\n",
      "+--------------------+-------------+-----------+--------------------+-------+--------------------+------+\n",
      "only showing top 20 rows\n",
      "\n"
     ]
    }
   ],
   "source": [
    "borough_df_sorted.show()"
   ]
  },
  {
   "cell_type": "code",
   "execution_count": 143,
   "metadata": {},
   "outputs": [
    {
     "data": {
      "text/plain": [
       "104"
      ]
     },
     "execution_count": 143,
     "metadata": {},
     "output_type": "execute_result"
    }
   ],
   "source": [
    "borough_df_sorted.count()"
   ]
  },
  {
   "cell_type": "code",
   "execution_count": 144,
   "metadata": {},
   "outputs": [],
   "source": [
    "def findBorough(x,y):\n",
    "    point = Point(x,y)\n",
    "    nearestLocIndex = geomtree.nearest(point)\n",
    "    return nearestLocIndex"
   ]
  },
  {
   "cell_type": "code",
   "execution_count": 145,
   "metadata": {},
   "outputs": [
    {
     "name": "stdout",
     "output_type": "stream",
     "text": [
      "+--------------------+--------------------+-------------------+-------------------+---------------+-----------------+-------------+----------------+---------------+-----------------+----------------+-----------------+---------------+------------+----------------+----------+--------------+\n",
      "|           medallion|        hack_license|    pickup_datetime|   dropoff_datetime|passenger_count|trip_time_in_secs|trip_distance|pickup_longitude|pickup_latitude|dropoff_longitude|dropoff_latitude|startBoroughIndex|endBoroughIndex|startBorough|startBoroughCode|endBorough|endBoroughCode|\n",
      "+--------------------+--------------------+-------------------+-------------------+---------------+-----------------+-------------+----------------+---------------+-----------------+----------------+-----------------+---------------+------------+----------------+----------+--------------+\n",
      "|671165D7C5488407C...|CC998826ADAEDD02B...|2013-01-13 03:57:00|2013-01-13 03:57:00|              1|                0|          0.0|      -74.042862|      40.720322|        -74.04287|       40.720318|               31|             31|   Manhattan|               1| Manhattan|             1|\n",
      "|289022F3B34AD3B9F...|B34E862BAC46FA091...|2013-01-13 10:15:00|2013-01-13 10:15:00|              1|                0|          0.0|       -74.04332|       40.71883|       -74.043335|       40.718849|               31|             31|   Manhattan|               1| Manhattan|             1|\n",
      "|E8A1DA44B99DA27ED...|152DFA75F287D6AD7...|2013-01-13 10:57:00|2013-01-13 11:00:00|              1|              180|         0.46|      -73.811562|      40.631073|       -73.810707|       40.630337|               22|             22|      Queens|               4|    Queens|             4|\n",
      "|E6FBF80668FE0611A...|36773E80775F26CD1...|2013-01-07 08:17:06|2013-01-07 08:22:46|              1|              340|          1.5|      -73.992111|      40.689701|       -74.007156|       40.679295|                1|              1|    Brooklyn|               3|  Brooklyn|             3|\n",
      "|F1EF8290A54338B13...|0FDDEFAFF6FC38BD6...|2013-01-05 08:16:58|2013-01-05 08:30:20|              1|              801|          6.5|      -73.976318|      40.682724|       -73.917915|       40.742664|                1|              0|    Brooklyn|               3|    Queens|             4|\n",
      "|7E3256C342CAFB3C2...|4F7873C913735088F...|2013-01-05 03:00:46|2013-01-05 03:23:28|              1|             1361|          5.5|        -73.9655|      40.711113|       -73.918327|       40.758671|                1|              0|    Brooklyn|               3|    Queens|             4|\n",
      "|237F49C3ECC11F502...|93C363DDF8ED9385D...|2013-01-07 12:21:46|2013-01-07 12:26:23|              1|              277|          0.9|       -73.95079|      40.714039|       -73.940895|       40.721325|                1|              1|    Brooklyn|               3|  Brooklyn|             3|\n",
      "|590D90160BD7C2673...|E3720119A91AB7C7A...|2013-01-07 22:21:59|2013-01-07 22:38:16|              1|              976|          4.5|      -73.995682|      40.679161|       -73.991219|       40.733498|                1|              4|    Brooklyn|               3| Manhattan|             1|\n",
      "|333D72A3E9C09AD9E...|ED57BB723A58FFF10...|2013-01-01 09:19:27|2013-01-01 09:21:52|              1|              145|          0.5|      -73.954796|       40.59893|       -73.950531|       40.604225|                1|              1|    Brooklyn|               3|  Brooklyn|             3|\n",
      "|E4CF46763B08F900D...|92A6C54F05688F8E5...|2013-01-13 04:39:00|2013-01-13 04:49:00|              1|              600|          3.6|      -73.993134|      40.692734|       -74.010071|       40.720856|                1|              4|    Brooklyn|               3| Manhattan|             1|\n",
      "|4E9B67DAEEF658D1B...|BA1AD6CBEFF4D0678...|2013-01-13 04:24:00|2013-01-13 04:45:00|              3|             1260|        11.17|      -73.956543|      40.717155|       -73.845589|       40.778648|                1|              0|    Brooklyn|               3|    Queens|             4|\n",
      "|5C9E006BB8CCE89AC...|1332EE9D10FC884EE...|2013-01-13 04:33:00|2013-01-13 04:47:00|              1|              840|         7.03|      -73.986771|      40.674507|       -73.950684|       40.723576|                1|              1|    Brooklyn|               3|  Brooklyn|             3|\n",
      "|94E1982CFB4153A23...|5689CEB1387BF6F15...|2013-01-13 04:39:00|2013-01-13 04:47:00|              2|              480|         2.14|      -73.961502|      40.713982|       -73.935463|       40.705311|                1|              1|    Brooklyn|               3|  Brooklyn|             3|\n",
      "|5E6E7449087DF76AD...|5A8E40B1421D8A5E5...|2013-01-13 04:38:00|2013-01-13 04:44:00|              1|              360|         1.47|      -73.978752|      40.678902|       -73.995827|       40.685932|                1|              1|    Brooklyn|               3|  Brooklyn|             3|\n",
      "|6C80CB291DA4A1F2F...|C1D3ADA19A2DAF0FC...|2013-01-13 04:41:00|2013-01-13 04:47:00|              1|              360|         2.06|      -73.981209|      40.689205|       -74.003906|       40.682579|                1|              1|    Brooklyn|               3|  Brooklyn|             3|\n",
      "|0E2CA825AD133D022...|051E51520D3FF77D6...|2013-01-13 04:50:00|2013-01-13 04:57:00|              1|              420|          2.5|      -73.983078|       40.69371|       -74.005981|       40.714344|                1|              4|    Brooklyn|               3| Manhattan|             1|\n",
      "|5562E98BA4BD4057E...|F4199818A317391BA...|2013-01-13 11:00:00|2013-01-13 11:08:00|              2|              480|         1.34|       -73.98053|      40.688324|       -73.973228|       40.677776|                1|              1|    Brooklyn|               3|  Brooklyn|             3|\n",
      "|E47A6E6C81F18BCCC...|C231CAD30EADFBD9E...|2013-01-13 04:31:00|2013-01-13 04:37:00|              1|              360|         1.54|      -73.994675|      40.680569|       -73.978844|       40.670174|                1|              1|    Brooklyn|               3|  Brooklyn|             3|\n",
      "|39A60F14324688F6B...|AB7AEC2579E49703D...|2013-01-13 10:52:00|2013-01-13 11:09:00|              1|             1020|         4.23|       -73.96981|      40.689541|       -73.958305|       40.648605|                1|              1|    Brooklyn|               3|  Brooklyn|             3|\n",
      "|31192E33A41141F32...|B7FB2044B776F94CA...|2013-01-13 04:29:00|2013-01-13 04:59:00|              1|             1800|        11.27|      -73.957611|      40.717949|       -73.945305|       40.833282|                1|              4|    Brooklyn|               3| Manhattan|             1|\n",
      "+--------------------+--------------------+-------------------+-------------------+---------------+-----------------+-------------+----------------+---------------+-----------------+----------------+-----------------+---------------+------------+----------------+----------+--------------+\n",
      "only showing top 20 rows\n",
      "\n"
     ]
    }
   ],
   "source": [
    "\n",
    "# Define a function to find the point borough\n",
    "def update_borough(longitude, latitude):\n",
    "    borough = findBorough(longitude, latitude)\n",
    "    return int(borough) if borough is not None else -1\n",
    "\n",
    "# Create a user-defined function (UDF)\n",
    "update_borough_udf = F.udf(update_borough, IntegerType())\n",
    "\n",
    "# Apply the UDF to update the start and end borough column (finding the borough index)\n",
    "taxiDataDf_with_boroughs = taxiDataDf.withColumn(\"startBoroughIndex\", update_borough_udf(taxiDataDf[\"pickup_longitude\"], taxiDataDf[\"pickup_latitude\"]))\n",
    "\n",
    "\n",
    "taxiDataDf_with_boroughs = taxiDataDf_with_boroughs.withColumn(\"endBoroughIndex\", update_borough_udf(taxiDataDf[\"dropoff_longitude\"], taxiDataDf[\"dropoff_latitude\"]))\n",
    "\n",
    "taxiDataDf_with_boroughs = taxiDataDf_with_boroughs.join(borough_df_sorted,taxiDataDf_with_boroughs.startBoroughIndex == borough_df_sorted.row_id,\"left\").drop(\"@id\",\"coordinates\",\"type\",\"area\",\"row_id\").withColumnRenamed(\"borough\",\"startBorough\").withColumnRenamed(\"boroughCode\",\"startBoroughCode\")\n",
    "taxiDataDf_with_boroughs = taxiDataDf_with_boroughs.join(borough_df_sorted,taxiDataDf_with_boroughs.endBoroughIndex == borough_df_sorted.row_id,\"left\").drop(\"@id\",\"coordinates\",\"type\",\"area\",\"row_id\").withColumnRenamed(\"borough\",\"endBorough\").withColumnRenamed(\"boroughCode\",\"endBoroughCode\")\n",
    "#Checkpoint here to truncate the query plan and make computing question 3 and 4 faster\n",
    "taxiDataDf_with_boroughs = taxiDataDf_with_boroughs.checkpoint()\n",
    "\n",
    "taxiDataDf_with_boroughs.show()\n"
   ]
  },
  {
   "cell_type": "code",
   "execution_count": 146,
   "metadata": {},
   "outputs": [],
   "source": [
    "#taxiDataDf_with_boroughs.groupBy(\"startBoroughIndex\").count().orderBy(\"startBoroughIndex\").show()"
   ]
  },
  {
   "cell_type": "markdown",
   "metadata": {},
   "source": [
    "## Query 1: Utilization"
   ]
  },
  {
   "cell_type": "markdown",
   "metadata": {},
   "source": [
    "Utilization: This is per taxi/driver. This can be computed by computing the idle \n",
    "time per taxi. We will elaborate on that more later"
   ]
  },
  {
   "cell_type": "code",
   "execution_count": 147,
   "metadata": {},
   "outputs": [
    {
     "data": {
      "text/plain": [
       "DataFrame[medallion: string, hack_license: string, pickup_datetime: timestamp, dropoff_datetime: timestamp, passenger_count: int, trip_time_in_secs: int, trip_distance: double, pickup_longitude: double, pickup_latitude: double, dropoff_longitude: double, dropoff_latitude: double, startBoroughIndex: int, endBoroughIndex: int, startBorough: string, startBoroughCode: bigint, endBorough: string, endBoroughCode: bigint, idle_time: bigint]"
      ]
     },
     "metadata": {},
     "output_type": "display_data"
    }
   ],
   "source": [
    "taxiUtilizationBaseDf = taxiDataDf_with_boroughs.filter(\"trip_time_in_secs > 0 or trip_time_in_secs <= 3600 * 4\")\n",
    "              \n",
    "\n",
    "utilizationWindow = Window.partitionBy(\"hack_license\").orderBy(\"pickup_datetime\")\n",
    "\n",
    "idleTimeDf = taxiUtilizationBaseDf.withColumn(\"idle_time\",(F.col(\"pickup_datetime\") - F.lag(F.col(\"dropoff_datetime\")).over(utilizationWindow)).cast(\"long\")) \\\n",
    "                                  .fillna(0,subset=[\"idle_time\"])\n",
    "display(idleTimeDf)"
   ]
  },
  {
   "cell_type": "code",
   "execution_count": 148,
   "metadata": {},
   "outputs": [
    {
     "data": {
      "text/plain": [
       "DataFrame[hack_license: string, idle_time_sum_seconds: bigint]"
      ]
     },
     "metadata": {},
     "output_type": "display_data"
    }
   ],
   "source": [
    "query1_df = idleTimeDf.groupBy(\"hack_license\").agg(F.sum(\"idle_time\").alias(\"idle_time_sum_seconds\"))\n",
    "display(query1_df)"
   ]
  },
  {
   "cell_type": "code",
   "execution_count": 149,
   "metadata": {},
   "outputs": [],
   "source": [
    "#Save result to file\n",
    "query1_df.coalesce(1).write.mode(\"overwrite\").csv(\"results/test/query1.csv\",header=True)"
   ]
  },
  {
   "cell_type": "code",
   "execution_count": 150,
   "metadata": {},
   "outputs": [
    {
     "data": {
      "image/png": "[encoded data removed]",
      "text/plain": [
       "<Figure size 700x400 with 1 Axes>"
      ]
     },
     "metadata": {},
     "output_type": "display_data"
    }
   ],
   "source": [
    "# Plotting the results\n",
    "\n",
    "pandas_query1_df = query1_df.toPandas()\n",
    "idle_time = pandas_query1_df.get(\"idle_time_sum_seconds\")\n",
    "idle_time_minutes = [ int(x/60) for x in idle_time]\n",
    "\n",
    "# NB! Over 1000 minutes is missing!!!\n",
    "fig = plt.figure(figsize = (7, 4))\n",
    "\n",
    "bins= [0, 100, 200, 300, 400, 500, 600, 700, 800, 900, 1000] # NB! Over 1000 minutes values are missing!!!\n",
    "plt.hist(idle_time_minutes, bins=bins, color=\"#82c7a5ff\")\n",
    "plt.xticks(bins)\n",
    "plt.xlabel(\"Idle time (minutes)\")\n",
    "plt.ylabel(\"Count\")\n",
    "plt.title(\"New York City Taxi Drivers idle times in minutes\")\n",
    "plt.savefig(fname=\"plots/test/q1.png\")\n",
    "plt.savefig(fname=\"plots/test/q1.svg\")\n",
    "plt.show()"
   ]
  },
  {
   "cell_type": "markdown",
   "metadata": {},
   "source": [
    "## Query 2: Average next trip time"
   ]
  },
  {
   "cell_type": "markdown",
   "metadata": {},
   "source": [
    "The average time it takes for a taxi to find its next fare(trip) per destination borough. This can be computed by finding the time difference, e.g. in seconds, between the trip's drop off and the next trip's pick up.\n"
   ]
  },
  {
   "cell_type": "code",
   "execution_count": 151,
   "metadata": {},
   "outputs": [
    {
     "name": "stdout",
     "output_type": "stream",
     "text": [
      "root\n",
      " |-- medallion: string (nullable = true)\n",
      " |-- hack_license: string (nullable = true)\n",
      " |-- pickup_datetime: timestamp (nullable = true)\n",
      " |-- dropoff_datetime: timestamp (nullable = true)\n",
      " |-- passenger_count: integer (nullable = true)\n",
      " |-- trip_time_in_secs: integer (nullable = true)\n",
      " |-- trip_distance: double (nullable = true)\n",
      " |-- pickup_longitude: double (nullable = true)\n",
      " |-- pickup_latitude: double (nullable = true)\n",
      " |-- dropoff_longitude: double (nullable = true)\n",
      " |-- dropoff_latitude: double (nullable = true)\n",
      " |-- startBoroughIndex: integer (nullable = true)\n",
      " |-- endBoroughIndex: integer (nullable = true)\n",
      " |-- startBorough: string (nullable = true)\n",
      " |-- startBoroughCode: long (nullable = true)\n",
      " |-- endBorough: string (nullable = true)\n",
      " |-- endBoroughCode: long (nullable = true)\n",
      "\n"
     ]
    }
   ],
   "source": [
    "taxiDataDf_with_boroughs.printSchema()"
   ]
  },
  {
   "cell_type": "code",
   "execution_count": 152,
   "metadata": {},
   "outputs": [
    {
     "name": "stdout",
     "output_type": "stream",
     "text": [
      "+-------------+------------------------+\n",
      "|   endBorough|avg_waiting_time_minutes|\n",
      "+-------------+------------------------+\n",
      "|       Queens|                   38.17|\n",
      "|     Brooklyn|                   34.58|\n",
      "|Staten Island|                   41.09|\n",
      "|    Manhattan|                   15.03|\n",
      "|        Bronx|                   37.94|\n",
      "+-------------+------------------------+\n",
      "\n"
     ]
    }
   ],
   "source": [
    "from pyspark.sql.functions import col, unix_timestamp, lead, avg, round\n",
    "\n",
    "windowSpec = Window.partitionBy(\"hack_license\").orderBy(\"dropoff_datetime\")\n",
    "\n",
    "df = taxiDataDf_with_boroughs.withColumn(\"next_pickup_time\", lead(\"pickup_datetime\").over(windowSpec))\n",
    "df = df.withColumn(\"time_to_next_fare\", unix_timestamp(\"next_pickup_time\") - unix_timestamp(\"dropoff_datetime\"))\n",
    "df = df.filter((col(\"time_to_next_fare\") >= 0) & (col(\"time_to_next_fare\") <= 3600*4))  \n",
    "\n",
    "#result_df = df.join(borough_df_sorted, df.endBoroughIndex == borough_df_sorted.row_id)\n",
    "avg_wait_time_per_borough = df.groupBy(\"endBorough\").agg(round(avg(\"time_to_next_fare\") / 60 , 2).alias(\"avg_waiting_time_minutes\"))\n",
    "\n",
    "avg_wait_time_per_borough.show()"
   ]
  },
  {
   "cell_type": "code",
   "execution_count": 153,
   "metadata": {},
   "outputs": [
    {
     "data": {
      "image/png": "[encoded data removed]",
      "text/plain": [
       "<Figure size 600x300 with 1 Axes>"
      ]
     },
     "metadata": {},
     "output_type": "display_data"
    }
   ],
   "source": [
    "# Plotting the query2\n",
    "pandas_query2_df = avg_wait_time_per_borough.toPandas()\n",
    "\n",
    "fig = plt.figure(figsize = (6, 3))\n",
    "\n",
    "# function to add value labels\n",
    "def addlabels(x,y):\n",
    "    for i in range(len(x)):\n",
    "        plt.text(i, y[i], y[i], ha = 'center')\n",
    "\n",
    "x = pandas_query2_df.get(\"endBorough\")\n",
    "y = pandas_query2_df.get(\"avg_waiting_time_minutes\")\n",
    "# creating the bar plot\n",
    "plt.bar(x, y, color ='#a4c2f4ff')\n",
    "\n",
    "addlabels(x, y)\n",
    "plt.xlabel(\"Borough name\")\n",
    "plt.ylabel(\"Average wait time\")\n",
    "plt.title(\"Average wait time per borough\")\n",
    "plt.savefig(fname=\"plots/test/q2.png\")\n",
    "plt.savefig(fname=\"plots/test/q2.svg\")\n",
    "plt.show()"
   ]
  },
  {
   "cell_type": "markdown",
   "metadata": {},
   "source": [
    "## Query 3: Trips started in one borough"
   ]
  },
  {
   "cell_type": "markdown",
   "metadata": {},
   "source": [
    "The number of trips that started and ended within the same borough,\n"
   ]
  },
  {
   "cell_type": "code",
   "execution_count": 154,
   "metadata": {},
   "outputs": [
    {
     "name": "stdout",
     "output_type": "stream",
     "text": [
      "The number of trips that start and end in the same borough is 88081.\n"
     ]
    }
   ],
   "source": [
    "same_borough_df = taxiDataDf_with_boroughs.filter(F.col(\"startBoroughCode\") == F.col(\"endBoroughCode\"))\n",
    "print(\"The number of trips that start and end in the same borough is \" + str(same_borough_df.count()) + \".\")"
   ]
  },
  {
   "cell_type": "code",
   "execution_count": 155,
   "metadata": {},
   "outputs": [
    {
     "name": "stdout",
     "output_type": "stream",
     "text": [
      "root\n",
      " |-- medallion: string (nullable = true)\n",
      " |-- hack_license: string (nullable = true)\n",
      " |-- pickup_datetime: timestamp (nullable = true)\n",
      " |-- dropoff_datetime: timestamp (nullable = true)\n",
      " |-- passenger_count: integer (nullable = true)\n",
      " |-- trip_time_in_secs: integer (nullable = true)\n",
      " |-- trip_distance: double (nullable = true)\n",
      " |-- pickup_longitude: double (nullable = true)\n",
      " |-- pickup_latitude: double (nullable = true)\n",
      " |-- dropoff_longitude: double (nullable = true)\n",
      " |-- dropoff_latitude: double (nullable = true)\n",
      " |-- startBoroughIndex: integer (nullable = true)\n",
      " |-- endBoroughIndex: integer (nullable = true)\n",
      " |-- startBorough: string (nullable = true)\n",
      " |-- startBoroughCode: long (nullable = true)\n",
      " |-- endBorough: string (nullable = true)\n",
      " |-- endBoroughCode: long (nullable = true)\n",
      "\n"
     ]
    }
   ],
   "source": [
    "same_borough_df.printSchema()"
   ]
  },
  {
   "cell_type": "markdown",
   "metadata": {},
   "source": [
    "### Plots"
   ]
  },
  {
   "cell_type": "code",
   "execution_count": 156,
   "metadata": {},
   "outputs": [
    {
     "name": "stdout",
     "output_type": "stream",
     "text": [
      "+-------------+-----+\n",
      "| startBorough|count|\n",
      "+-------------+-----+\n",
      "|       Queens| 3217|\n",
      "|     Brooklyn| 1069|\n",
      "|Staten Island|   20|\n",
      "|    Manhattan|83719|\n",
      "|        Bronx|   56|\n",
      "+-------------+-----+\n",
      "\n"
     ]
    }
   ],
   "source": [
    "query3_df = same_borough_df.groupBy(\"startBorough\").count()\n",
    "\n",
    "query3_df.show()"
   ]
  },
  {
   "cell_type": "code",
   "execution_count": 157,
   "metadata": {},
   "outputs": [
    {
     "data": {
      "image/png": "[encoded data removed]",
      "text/plain": [
       "<Figure size 500x300 with 1 Axes>"
      ]
     },
     "metadata": {},
     "output_type": "display_data"
    }
   ],
   "source": [
    "# Plotting the query3 results\n",
    "\n",
    "query3_df_pandas = query3_df.toPandas()\n",
    "\n",
    "fig = plt.figure(figsize = (5, 3))\n",
    "\n",
    "# function to add value labels\n",
    "def addlabels(x,y):\n",
    "    for i in range(len(x)):\n",
    "        plt.text(i, y[i], y[i], ha = 'center')\n",
    "\n",
    "x = query3_df_pandas.get(\"startBorough\")\n",
    "y = query3_df_pandas.get(\"count\")\n",
    "# creating the bar plot\n",
    "plt.bar(x, y, color ='#82c7a5ff')\n",
    "\n",
    "addlabels(x, y)\n",
    "plt.xlabel(\"Borough name\")\n",
    "plt.ylabel(\"Count\")\n",
    "plt.title(\"Number of trips started and ended in the same borough\")\n",
    "plt.savefig(fname=\"plots/test/q3.png\")\n",
    "plt.savefig(fname=\"plots/test/q3.svg\")\n",
    "plt.show()"
   ]
  },
  {
   "cell_type": "markdown",
   "metadata": {},
   "source": [
    "## Query 4: Trips between different boroughs"
   ]
  },
  {
   "cell_type": "markdown",
   "metadata": {},
   "source": [
    "The number of trips that started in one borough and ended in another one"
   ]
  },
  {
   "cell_type": "code",
   "execution_count": 158,
   "metadata": {},
   "outputs": [
    {
     "name": "stdout",
     "output_type": "stream",
     "text": [
      "The number of trips that have different start and end borough is 11918.\n"
     ]
    }
   ],
   "source": [
    "different_borough_df = taxiDataDf_with_boroughs.filter(F.col(\"startBoroughCode\") != F.col(\"endBoroughCode\"))\n",
    "print(\"The number of trips that have different start and end borough is \" + str(different_borough_df.count()) + \".\")"
   ]
  },
  {
   "cell_type": "markdown",
   "metadata": {},
   "source": [
    "### Plots"
   ]
  },
  {
   "cell_type": "code",
   "execution_count": 159,
   "metadata": {},
   "outputs": [
    {
     "name": "stdout",
     "output_type": "stream",
     "text": [
      "+-------------+-----+\n",
      "| startBorough|count|\n",
      "+-------------+-----+\n",
      "|       Queens| 4493|\n",
      "|     Brooklyn|  901|\n",
      "|Staten Island|    7|\n",
      "|    Manhattan| 6480|\n",
      "|        Bronx|   37|\n",
      "+-------------+-----+\n",
      "\n"
     ]
    }
   ],
   "source": [
    "query4_start_df = different_borough_df.groupBy(\"startBorough\").count()\n",
    "\n",
    "query4_start_df.show()"
   ]
  },
  {
   "cell_type": "code",
   "execution_count": 160,
   "metadata": {},
   "outputs": [
    {
     "data": {
      "image/png": "[encoded data removed]",
      "text/plain": [
       "<Figure size 700x300 with 1 Axes>"
      ]
     },
     "metadata": {},
     "output_type": "display_data"
    }
   ],
   "source": [
    "# Plotting the query4 results (start borough)\n",
    "\n",
    "query4_start_df_pandas = query4_start_df.toPandas()\n",
    "\n",
    "fig = plt.figure(figsize = (7, 3))\n",
    "\n",
    "# function to add value labels\n",
    "def addlabels(x,y):\n",
    "    for i in range(len(x)):\n",
    "        plt.text(i, y[i], y[i], ha = 'center')\n",
    "\n",
    "x = query4_start_df_pandas.get(\"startBorough\")\n",
    "y = query4_start_df_pandas.get(\"count\")\n",
    "# creating the bar plot\n",
    "plt.bar(x, y, color ='#a4c2f4ff', width=0.4)\n",
    "\n",
    "addlabels(x, y)\n",
    "plt.xlabel(\"Borough name\")\n",
    "plt.ylabel(\"Count\")\n",
    "plt.title(\"Number of trips started and ended in a different borough (per start borough)\")\n",
    "plt.savefig(fname=\"plots/test/q4.png\")\n",
    "plt.savefig(fname=\"plots/test/q4.svg\")\n",
    "plt.show()"
   ]
  }
 ],
 "metadata": {
  "kernelspec": {
   "display_name": "Python 3 (ipykernel)",
   "language": "python",
   "name": "python3"
  },
  "language_info": {
   "codemirror_mode": {
    "name": "ipython",
    "version": 3
   },
   "file_extension": ".py",
   "mimetype": "text/x-python",
   "name": "python",
   "nbconvert_exporter": "python",
   "pygments_lexer": "ipython3",
   "version": "3.11.7"
  }
 },
 "nbformat": 4,
 "nbformat_minor": 4
}
